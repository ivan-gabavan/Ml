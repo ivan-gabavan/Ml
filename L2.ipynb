{
 "cells": [
  {
   "cell_type": "markdown",
   "id": "49764d79",
   "metadata": {},
   "source": [
    "# 1.3\n",
    "\n"
   ]
  },
  {
   "cell_type": "code",
   "execution_count": 1,
   "id": "fc1fb89a",
   "metadata": {},
   "outputs": [],
   "source": [
    "import pandas as pd\n",
    "import numpy as np\n",
    "from sklearn.model_selection import train_test_split"
   ]
  },
  {
   "cell_type": "code",
   "execution_count": 2,
   "id": "d434de48",
   "metadata": {
    "scrolled": false
   },
   "outputs": [
    {
     "data": {
      "text/html": [
       "<div>\n",
       "<style scoped>\n",
       "    .dataframe tbody tr th:only-of-type {\n",
       "        vertical-align: middle;\n",
       "    }\n",
       "\n",
       "    .dataframe tbody tr th {\n",
       "        vertical-align: top;\n",
       "    }\n",
       "\n",
       "    .dataframe thead th {\n",
       "        text-align: right;\n",
       "    }\n",
       "</style>\n",
       "<table border=\"1\" class=\"dataframe\">\n",
       "  <thead>\n",
       "    <tr style=\"text-align: right;\">\n",
       "      <th></th>\n",
       "      <th>longitude</th>\n",
       "      <th>latitude</th>\n",
       "      <th>housing_median_age</th>\n",
       "      <th>total_rooms</th>\n",
       "      <th>total_bedrooms</th>\n",
       "      <th>population</th>\n",
       "      <th>households</th>\n",
       "      <th>median_income</th>\n",
       "      <th>median_house_value</th>\n",
       "      <th>ocean_proximity</th>\n",
       "    </tr>\n",
       "  </thead>\n",
       "  <tbody>\n",
       "    <tr>\n",
       "      <th>0</th>\n",
       "      <td>-122.23</td>\n",
       "      <td>37.88</td>\n",
       "      <td>41.0</td>\n",
       "      <td>880.0</td>\n",
       "      <td>129.0</td>\n",
       "      <td>322.0</td>\n",
       "      <td>126.0</td>\n",
       "      <td>8.3252</td>\n",
       "      <td>452600.0</td>\n",
       "      <td>NEAR BAY</td>\n",
       "    </tr>\n",
       "    <tr>\n",
       "      <th>1</th>\n",
       "      <td>-122.22</td>\n",
       "      <td>37.86</td>\n",
       "      <td>21.0</td>\n",
       "      <td>7099.0</td>\n",
       "      <td>1106.0</td>\n",
       "      <td>2401.0</td>\n",
       "      <td>1138.0</td>\n",
       "      <td>8.3014</td>\n",
       "      <td>358500.0</td>\n",
       "      <td>NEAR BAY</td>\n",
       "    </tr>\n",
       "    <tr>\n",
       "      <th>2</th>\n",
       "      <td>-122.24</td>\n",
       "      <td>37.85</td>\n",
       "      <td>52.0</td>\n",
       "      <td>1467.0</td>\n",
       "      <td>190.0</td>\n",
       "      <td>496.0</td>\n",
       "      <td>177.0</td>\n",
       "      <td>7.2574</td>\n",
       "      <td>352100.0</td>\n",
       "      <td>NEAR BAY</td>\n",
       "    </tr>\n",
       "    <tr>\n",
       "      <th>3</th>\n",
       "      <td>-122.25</td>\n",
       "      <td>37.85</td>\n",
       "      <td>52.0</td>\n",
       "      <td>1274.0</td>\n",
       "      <td>235.0</td>\n",
       "      <td>558.0</td>\n",
       "      <td>219.0</td>\n",
       "      <td>5.6431</td>\n",
       "      <td>341300.0</td>\n",
       "      <td>NEAR BAY</td>\n",
       "    </tr>\n",
       "    <tr>\n",
       "      <th>4</th>\n",
       "      <td>-122.25</td>\n",
       "      <td>37.85</td>\n",
       "      <td>52.0</td>\n",
       "      <td>1627.0</td>\n",
       "      <td>280.0</td>\n",
       "      <td>565.0</td>\n",
       "      <td>259.0</td>\n",
       "      <td>3.8462</td>\n",
       "      <td>342200.0</td>\n",
       "      <td>NEAR BAY</td>\n",
       "    </tr>\n",
       "    <tr>\n",
       "      <th>...</th>\n",
       "      <td>...</td>\n",
       "      <td>...</td>\n",
       "      <td>...</td>\n",
       "      <td>...</td>\n",
       "      <td>...</td>\n",
       "      <td>...</td>\n",
       "      <td>...</td>\n",
       "      <td>...</td>\n",
       "      <td>...</td>\n",
       "      <td>...</td>\n",
       "    </tr>\n",
       "    <tr>\n",
       "      <th>20635</th>\n",
       "      <td>-121.09</td>\n",
       "      <td>39.48</td>\n",
       "      <td>25.0</td>\n",
       "      <td>1665.0</td>\n",
       "      <td>374.0</td>\n",
       "      <td>845.0</td>\n",
       "      <td>330.0</td>\n",
       "      <td>1.5603</td>\n",
       "      <td>78100.0</td>\n",
       "      <td>INLAND</td>\n",
       "    </tr>\n",
       "    <tr>\n",
       "      <th>20636</th>\n",
       "      <td>-121.21</td>\n",
       "      <td>39.49</td>\n",
       "      <td>18.0</td>\n",
       "      <td>697.0</td>\n",
       "      <td>150.0</td>\n",
       "      <td>356.0</td>\n",
       "      <td>114.0</td>\n",
       "      <td>2.5568</td>\n",
       "      <td>77100.0</td>\n",
       "      <td>INLAND</td>\n",
       "    </tr>\n",
       "    <tr>\n",
       "      <th>20637</th>\n",
       "      <td>-121.22</td>\n",
       "      <td>39.43</td>\n",
       "      <td>17.0</td>\n",
       "      <td>2254.0</td>\n",
       "      <td>485.0</td>\n",
       "      <td>1007.0</td>\n",
       "      <td>433.0</td>\n",
       "      <td>1.7000</td>\n",
       "      <td>92300.0</td>\n",
       "      <td>INLAND</td>\n",
       "    </tr>\n",
       "    <tr>\n",
       "      <th>20638</th>\n",
       "      <td>-121.32</td>\n",
       "      <td>39.43</td>\n",
       "      <td>18.0</td>\n",
       "      <td>1860.0</td>\n",
       "      <td>409.0</td>\n",
       "      <td>741.0</td>\n",
       "      <td>349.0</td>\n",
       "      <td>1.8672</td>\n",
       "      <td>84700.0</td>\n",
       "      <td>INLAND</td>\n",
       "    </tr>\n",
       "    <tr>\n",
       "      <th>20639</th>\n",
       "      <td>-121.24</td>\n",
       "      <td>39.37</td>\n",
       "      <td>16.0</td>\n",
       "      <td>2785.0</td>\n",
       "      <td>616.0</td>\n",
       "      <td>1387.0</td>\n",
       "      <td>530.0</td>\n",
       "      <td>2.3886</td>\n",
       "      <td>89400.0</td>\n",
       "      <td>INLAND</td>\n",
       "    </tr>\n",
       "  </tbody>\n",
       "</table>\n",
       "<p>20640 rows × 10 columns</p>\n",
       "</div>"
      ],
      "text/plain": [
       "       longitude  latitude  housing_median_age  total_rooms  total_bedrooms  \\\n",
       "0        -122.23     37.88                41.0        880.0           129.0   \n",
       "1        -122.22     37.86                21.0       7099.0          1106.0   \n",
       "2        -122.24     37.85                52.0       1467.0           190.0   \n",
       "3        -122.25     37.85                52.0       1274.0           235.0   \n",
       "4        -122.25     37.85                52.0       1627.0           280.0   \n",
       "...          ...       ...                 ...          ...             ...   \n",
       "20635    -121.09     39.48                25.0       1665.0           374.0   \n",
       "20636    -121.21     39.49                18.0        697.0           150.0   \n",
       "20637    -121.22     39.43                17.0       2254.0           485.0   \n",
       "20638    -121.32     39.43                18.0       1860.0           409.0   \n",
       "20639    -121.24     39.37                16.0       2785.0           616.0   \n",
       "\n",
       "       population  households  median_income  median_house_value  \\\n",
       "0           322.0       126.0         8.3252            452600.0   \n",
       "1          2401.0      1138.0         8.3014            358500.0   \n",
       "2           496.0       177.0         7.2574            352100.0   \n",
       "3           558.0       219.0         5.6431            341300.0   \n",
       "4           565.0       259.0         3.8462            342200.0   \n",
       "...           ...         ...            ...                 ...   \n",
       "20635       845.0       330.0         1.5603             78100.0   \n",
       "20636       356.0       114.0         2.5568             77100.0   \n",
       "20637      1007.0       433.0         1.7000             92300.0   \n",
       "20638       741.0       349.0         1.8672             84700.0   \n",
       "20639      1387.0       530.0         2.3886             89400.0   \n",
       "\n",
       "      ocean_proximity  \n",
       "0            NEAR BAY  \n",
       "1            NEAR BAY  \n",
       "2            NEAR BAY  \n",
       "3            NEAR BAY  \n",
       "4            NEAR BAY  \n",
       "...               ...  \n",
       "20635          INLAND  \n",
       "20636          INLAND  \n",
       "20637          INLAND  \n",
       "20638          INLAND  \n",
       "20639          INLAND  \n",
       "\n",
       "[20640 rows x 10 columns]"
      ]
     },
     "execution_count": 2,
     "metadata": {},
     "output_type": "execute_result"
    }
   ],
   "source": [
    "housing_df = pd.read_csv('housing.csv')\n",
    "housing_df"
   ]
  },
  {
   "cell_type": "markdown",
   "id": "35f2d5a1",
   "metadata": {},
   "source": [
    "Проведите преобразование категориального признака ocean_proximity через OneHot или Dummy-кодировку"
   ]
  },
  {
   "cell_type": "code",
   "execution_count": 3,
   "id": "960262a0",
   "metadata": {},
   "outputs": [],
   "source": [
    "DUMMY_SEP = '__'"
   ]
  },
  {
   "cell_type": "markdown",
   "id": "1342ae66",
   "metadata": {},
   "source": [
    "Делее работаю только с тренировочной выборкой"
   ]
  },
  {
   "cell_type": "code",
   "execution_count": 4,
   "id": "50ee840b",
   "metadata": {
    "scrolled": true
   },
   "outputs": [
    {
     "data": {
      "text/html": [
       "<div>\n",
       "<style scoped>\n",
       "    .dataframe tbody tr th:only-of-type {\n",
       "        vertical-align: middle;\n",
       "    }\n",
       "\n",
       "    .dataframe tbody tr th {\n",
       "        vertical-align: top;\n",
       "    }\n",
       "\n",
       "    .dataframe thead th {\n",
       "        text-align: right;\n",
       "    }\n",
       "</style>\n",
       "<table border=\"1\" class=\"dataframe\">\n",
       "  <thead>\n",
       "    <tr style=\"text-align: right;\">\n",
       "      <th></th>\n",
       "      <th>longitude</th>\n",
       "      <th>latitude</th>\n",
       "      <th>housing_median_age</th>\n",
       "      <th>total_rooms</th>\n",
       "      <th>total_bedrooms</th>\n",
       "      <th>population</th>\n",
       "      <th>households</th>\n",
       "      <th>median_income</th>\n",
       "      <th>median_house_value</th>\n",
       "      <th>ocean_proximity__&lt;1H OCEAN</th>\n",
       "      <th>ocean_proximity__INLAND</th>\n",
       "      <th>ocean_proximity__ISLAND</th>\n",
       "      <th>ocean_proximity__NEAR BAY</th>\n",
       "      <th>ocean_proximity__NEAR OCEAN</th>\n",
       "    </tr>\n",
       "  </thead>\n",
       "  <tbody>\n",
       "    <tr>\n",
       "      <th>0</th>\n",
       "      <td>-122.23</td>\n",
       "      <td>37.88</td>\n",
       "      <td>41.0</td>\n",
       "      <td>880.0</td>\n",
       "      <td>129.0</td>\n",
       "      <td>322.0</td>\n",
       "      <td>126.0</td>\n",
       "      <td>8.3252</td>\n",
       "      <td>452600.0</td>\n",
       "      <td>0</td>\n",
       "      <td>0</td>\n",
       "      <td>0</td>\n",
       "      <td>1</td>\n",
       "      <td>0</td>\n",
       "    </tr>\n",
       "    <tr>\n",
       "      <th>1</th>\n",
       "      <td>-122.22</td>\n",
       "      <td>37.86</td>\n",
       "      <td>21.0</td>\n",
       "      <td>7099.0</td>\n",
       "      <td>1106.0</td>\n",
       "      <td>2401.0</td>\n",
       "      <td>1138.0</td>\n",
       "      <td>8.3014</td>\n",
       "      <td>358500.0</td>\n",
       "      <td>0</td>\n",
       "      <td>0</td>\n",
       "      <td>0</td>\n",
       "      <td>1</td>\n",
       "      <td>0</td>\n",
       "    </tr>\n",
       "    <tr>\n",
       "      <th>2</th>\n",
       "      <td>-122.24</td>\n",
       "      <td>37.85</td>\n",
       "      <td>52.0</td>\n",
       "      <td>1467.0</td>\n",
       "      <td>190.0</td>\n",
       "      <td>496.0</td>\n",
       "      <td>177.0</td>\n",
       "      <td>7.2574</td>\n",
       "      <td>352100.0</td>\n",
       "      <td>0</td>\n",
       "      <td>0</td>\n",
       "      <td>0</td>\n",
       "      <td>1</td>\n",
       "      <td>0</td>\n",
       "    </tr>\n",
       "    <tr>\n",
       "      <th>3</th>\n",
       "      <td>-122.25</td>\n",
       "      <td>37.85</td>\n",
       "      <td>52.0</td>\n",
       "      <td>1274.0</td>\n",
       "      <td>235.0</td>\n",
       "      <td>558.0</td>\n",
       "      <td>219.0</td>\n",
       "      <td>5.6431</td>\n",
       "      <td>341300.0</td>\n",
       "      <td>0</td>\n",
       "      <td>0</td>\n",
       "      <td>0</td>\n",
       "      <td>1</td>\n",
       "      <td>0</td>\n",
       "    </tr>\n",
       "    <tr>\n",
       "      <th>4</th>\n",
       "      <td>-122.25</td>\n",
       "      <td>37.85</td>\n",
       "      <td>52.0</td>\n",
       "      <td>1627.0</td>\n",
       "      <td>280.0</td>\n",
       "      <td>565.0</td>\n",
       "      <td>259.0</td>\n",
       "      <td>3.8462</td>\n",
       "      <td>342200.0</td>\n",
       "      <td>0</td>\n",
       "      <td>0</td>\n",
       "      <td>0</td>\n",
       "      <td>1</td>\n",
       "      <td>0</td>\n",
       "    </tr>\n",
       "    <tr>\n",
       "      <th>...</th>\n",
       "      <td>...</td>\n",
       "      <td>...</td>\n",
       "      <td>...</td>\n",
       "      <td>...</td>\n",
       "      <td>...</td>\n",
       "      <td>...</td>\n",
       "      <td>...</td>\n",
       "      <td>...</td>\n",
       "      <td>...</td>\n",
       "      <td>...</td>\n",
       "      <td>...</td>\n",
       "      <td>...</td>\n",
       "      <td>...</td>\n",
       "      <td>...</td>\n",
       "    </tr>\n",
       "    <tr>\n",
       "      <th>20635</th>\n",
       "      <td>-121.09</td>\n",
       "      <td>39.48</td>\n",
       "      <td>25.0</td>\n",
       "      <td>1665.0</td>\n",
       "      <td>374.0</td>\n",
       "      <td>845.0</td>\n",
       "      <td>330.0</td>\n",
       "      <td>1.5603</td>\n",
       "      <td>78100.0</td>\n",
       "      <td>0</td>\n",
       "      <td>1</td>\n",
       "      <td>0</td>\n",
       "      <td>0</td>\n",
       "      <td>0</td>\n",
       "    </tr>\n",
       "    <tr>\n",
       "      <th>20636</th>\n",
       "      <td>-121.21</td>\n",
       "      <td>39.49</td>\n",
       "      <td>18.0</td>\n",
       "      <td>697.0</td>\n",
       "      <td>150.0</td>\n",
       "      <td>356.0</td>\n",
       "      <td>114.0</td>\n",
       "      <td>2.5568</td>\n",
       "      <td>77100.0</td>\n",
       "      <td>0</td>\n",
       "      <td>1</td>\n",
       "      <td>0</td>\n",
       "      <td>0</td>\n",
       "      <td>0</td>\n",
       "    </tr>\n",
       "    <tr>\n",
       "      <th>20637</th>\n",
       "      <td>-121.22</td>\n",
       "      <td>39.43</td>\n",
       "      <td>17.0</td>\n",
       "      <td>2254.0</td>\n",
       "      <td>485.0</td>\n",
       "      <td>1007.0</td>\n",
       "      <td>433.0</td>\n",
       "      <td>1.7000</td>\n",
       "      <td>92300.0</td>\n",
       "      <td>0</td>\n",
       "      <td>1</td>\n",
       "      <td>0</td>\n",
       "      <td>0</td>\n",
       "      <td>0</td>\n",
       "    </tr>\n",
       "    <tr>\n",
       "      <th>20638</th>\n",
       "      <td>-121.32</td>\n",
       "      <td>39.43</td>\n",
       "      <td>18.0</td>\n",
       "      <td>1860.0</td>\n",
       "      <td>409.0</td>\n",
       "      <td>741.0</td>\n",
       "      <td>349.0</td>\n",
       "      <td>1.8672</td>\n",
       "      <td>84700.0</td>\n",
       "      <td>0</td>\n",
       "      <td>1</td>\n",
       "      <td>0</td>\n",
       "      <td>0</td>\n",
       "      <td>0</td>\n",
       "    </tr>\n",
       "    <tr>\n",
       "      <th>20639</th>\n",
       "      <td>-121.24</td>\n",
       "      <td>39.37</td>\n",
       "      <td>16.0</td>\n",
       "      <td>2785.0</td>\n",
       "      <td>616.0</td>\n",
       "      <td>1387.0</td>\n",
       "      <td>530.0</td>\n",
       "      <td>2.3886</td>\n",
       "      <td>89400.0</td>\n",
       "      <td>0</td>\n",
       "      <td>1</td>\n",
       "      <td>0</td>\n",
       "      <td>0</td>\n",
       "      <td>0</td>\n",
       "    </tr>\n",
       "  </tbody>\n",
       "</table>\n",
       "<p>20640 rows × 14 columns</p>\n",
       "</div>"
      ],
      "text/plain": [
       "       longitude  latitude  housing_median_age  total_rooms  total_bedrooms  \\\n",
       "0        -122.23     37.88                41.0        880.0           129.0   \n",
       "1        -122.22     37.86                21.0       7099.0          1106.0   \n",
       "2        -122.24     37.85                52.0       1467.0           190.0   \n",
       "3        -122.25     37.85                52.0       1274.0           235.0   \n",
       "4        -122.25     37.85                52.0       1627.0           280.0   \n",
       "...          ...       ...                 ...          ...             ...   \n",
       "20635    -121.09     39.48                25.0       1665.0           374.0   \n",
       "20636    -121.21     39.49                18.0        697.0           150.0   \n",
       "20637    -121.22     39.43                17.0       2254.0           485.0   \n",
       "20638    -121.32     39.43                18.0       1860.0           409.0   \n",
       "20639    -121.24     39.37                16.0       2785.0           616.0   \n",
       "\n",
       "       population  households  median_income  median_house_value  \\\n",
       "0           322.0       126.0         8.3252            452600.0   \n",
       "1          2401.0      1138.0         8.3014            358500.0   \n",
       "2           496.0       177.0         7.2574            352100.0   \n",
       "3           558.0       219.0         5.6431            341300.0   \n",
       "4           565.0       259.0         3.8462            342200.0   \n",
       "...           ...         ...            ...                 ...   \n",
       "20635       845.0       330.0         1.5603             78100.0   \n",
       "20636       356.0       114.0         2.5568             77100.0   \n",
       "20637      1007.0       433.0         1.7000             92300.0   \n",
       "20638       741.0       349.0         1.8672             84700.0   \n",
       "20639      1387.0       530.0         2.3886             89400.0   \n",
       "\n",
       "       ocean_proximity__<1H OCEAN  ocean_proximity__INLAND  \\\n",
       "0                               0                        0   \n",
       "1                               0                        0   \n",
       "2                               0                        0   \n",
       "3                               0                        0   \n",
       "4                               0                        0   \n",
       "...                           ...                      ...   \n",
       "20635                           0                        1   \n",
       "20636                           0                        1   \n",
       "20637                           0                        1   \n",
       "20638                           0                        1   \n",
       "20639                           0                        1   \n",
       "\n",
       "       ocean_proximity__ISLAND  ocean_proximity__NEAR BAY  \\\n",
       "0                            0                          1   \n",
       "1                            0                          1   \n",
       "2                            0                          1   \n",
       "3                            0                          1   \n",
       "4                            0                          1   \n",
       "...                        ...                        ...   \n",
       "20635                        0                          0   \n",
       "20636                        0                          0   \n",
       "20637                        0                          0   \n",
       "20638                        0                          0   \n",
       "20639                        0                          0   \n",
       "\n",
       "       ocean_proximity__NEAR OCEAN  \n",
       "0                                0  \n",
       "1                                0  \n",
       "2                                0  \n",
       "3                                0  \n",
       "4                                0  \n",
       "...                            ...  \n",
       "20635                            0  \n",
       "20636                            0  \n",
       "20637                            0  \n",
       "20638                            0  \n",
       "20639                            0  \n",
       "\n",
       "[20640 rows x 14 columns]"
      ]
     },
     "execution_count": 4,
     "metadata": {},
     "output_type": "execute_result"
    }
   ],
   "source": [
    "housing_dummies = pd.get_dummies(housing_df,columns = ['ocean_proximity'], prefix_sep=DUMMY_SEP)\n",
    "housing_dummies"
   ]
  },
  {
   "cell_type": "markdown",
   "id": "02122dec",
   "metadata": {},
   "source": [
    "Замените признаки total_rooms и total_bedrooms на average_rooms и average_bedrooms (поделив на households).\n"
   ]
  },
  {
   "cell_type": "code",
   "execution_count": 5,
   "id": "61e78d5e",
   "metadata": {
    "scrolled": false
   },
   "outputs": [
    {
     "data": {
      "text/html": [
       "<div>\n",
       "<style scoped>\n",
       "    .dataframe tbody tr th:only-of-type {\n",
       "        vertical-align: middle;\n",
       "    }\n",
       "\n",
       "    .dataframe tbody tr th {\n",
       "        vertical-align: top;\n",
       "    }\n",
       "\n",
       "    .dataframe thead th {\n",
       "        text-align: right;\n",
       "    }\n",
       "</style>\n",
       "<table border=\"1\" class=\"dataframe\">\n",
       "  <thead>\n",
       "    <tr style=\"text-align: right;\">\n",
       "      <th></th>\n",
       "      <th>longitude</th>\n",
       "      <th>latitude</th>\n",
       "      <th>housing_median_age</th>\n",
       "      <th>population</th>\n",
       "      <th>households</th>\n",
       "      <th>median_income</th>\n",
       "      <th>median_house_value</th>\n",
       "      <th>ocean_proximity__&lt;1H OCEAN</th>\n",
       "      <th>ocean_proximity__INLAND</th>\n",
       "      <th>ocean_proximity__ISLAND</th>\n",
       "      <th>ocean_proximity__NEAR BAY</th>\n",
       "      <th>ocean_proximity__NEAR OCEAN</th>\n",
       "      <th>average_rooms</th>\n",
       "      <th>average_bedrooms</th>\n",
       "    </tr>\n",
       "  </thead>\n",
       "  <tbody>\n",
       "    <tr>\n",
       "      <th>0</th>\n",
       "      <td>-122.23</td>\n",
       "      <td>37.88</td>\n",
       "      <td>41.0</td>\n",
       "      <td>322.0</td>\n",
       "      <td>126.0</td>\n",
       "      <td>8.3252</td>\n",
       "      <td>452600.0</td>\n",
       "      <td>0</td>\n",
       "      <td>0</td>\n",
       "      <td>0</td>\n",
       "      <td>1</td>\n",
       "      <td>0</td>\n",
       "      <td>6.984127</td>\n",
       "      <td>1.023810</td>\n",
       "    </tr>\n",
       "    <tr>\n",
       "      <th>1</th>\n",
       "      <td>-122.22</td>\n",
       "      <td>37.86</td>\n",
       "      <td>21.0</td>\n",
       "      <td>2401.0</td>\n",
       "      <td>1138.0</td>\n",
       "      <td>8.3014</td>\n",
       "      <td>358500.0</td>\n",
       "      <td>0</td>\n",
       "      <td>0</td>\n",
       "      <td>0</td>\n",
       "      <td>1</td>\n",
       "      <td>0</td>\n",
       "      <td>6.238137</td>\n",
       "      <td>0.971880</td>\n",
       "    </tr>\n",
       "    <tr>\n",
       "      <th>2</th>\n",
       "      <td>-122.24</td>\n",
       "      <td>37.85</td>\n",
       "      <td>52.0</td>\n",
       "      <td>496.0</td>\n",
       "      <td>177.0</td>\n",
       "      <td>7.2574</td>\n",
       "      <td>352100.0</td>\n",
       "      <td>0</td>\n",
       "      <td>0</td>\n",
       "      <td>0</td>\n",
       "      <td>1</td>\n",
       "      <td>0</td>\n",
       "      <td>8.288136</td>\n",
       "      <td>1.073446</td>\n",
       "    </tr>\n",
       "    <tr>\n",
       "      <th>3</th>\n",
       "      <td>-122.25</td>\n",
       "      <td>37.85</td>\n",
       "      <td>52.0</td>\n",
       "      <td>558.0</td>\n",
       "      <td>219.0</td>\n",
       "      <td>5.6431</td>\n",
       "      <td>341300.0</td>\n",
       "      <td>0</td>\n",
       "      <td>0</td>\n",
       "      <td>0</td>\n",
       "      <td>1</td>\n",
       "      <td>0</td>\n",
       "      <td>5.817352</td>\n",
       "      <td>1.073059</td>\n",
       "    </tr>\n",
       "    <tr>\n",
       "      <th>4</th>\n",
       "      <td>-122.25</td>\n",
       "      <td>37.85</td>\n",
       "      <td>52.0</td>\n",
       "      <td>565.0</td>\n",
       "      <td>259.0</td>\n",
       "      <td>3.8462</td>\n",
       "      <td>342200.0</td>\n",
       "      <td>0</td>\n",
       "      <td>0</td>\n",
       "      <td>0</td>\n",
       "      <td>1</td>\n",
       "      <td>0</td>\n",
       "      <td>6.281853</td>\n",
       "      <td>1.081081</td>\n",
       "    </tr>\n",
       "    <tr>\n",
       "      <th>...</th>\n",
       "      <td>...</td>\n",
       "      <td>...</td>\n",
       "      <td>...</td>\n",
       "      <td>...</td>\n",
       "      <td>...</td>\n",
       "      <td>...</td>\n",
       "      <td>...</td>\n",
       "      <td>...</td>\n",
       "      <td>...</td>\n",
       "      <td>...</td>\n",
       "      <td>...</td>\n",
       "      <td>...</td>\n",
       "      <td>...</td>\n",
       "      <td>...</td>\n",
       "    </tr>\n",
       "    <tr>\n",
       "      <th>20635</th>\n",
       "      <td>-121.09</td>\n",
       "      <td>39.48</td>\n",
       "      <td>25.0</td>\n",
       "      <td>845.0</td>\n",
       "      <td>330.0</td>\n",
       "      <td>1.5603</td>\n",
       "      <td>78100.0</td>\n",
       "      <td>0</td>\n",
       "      <td>1</td>\n",
       "      <td>0</td>\n",
       "      <td>0</td>\n",
       "      <td>0</td>\n",
       "      <td>5.045455</td>\n",
       "      <td>1.133333</td>\n",
       "    </tr>\n",
       "    <tr>\n",
       "      <th>20636</th>\n",
       "      <td>-121.21</td>\n",
       "      <td>39.49</td>\n",
       "      <td>18.0</td>\n",
       "      <td>356.0</td>\n",
       "      <td>114.0</td>\n",
       "      <td>2.5568</td>\n",
       "      <td>77100.0</td>\n",
       "      <td>0</td>\n",
       "      <td>1</td>\n",
       "      <td>0</td>\n",
       "      <td>0</td>\n",
       "      <td>0</td>\n",
       "      <td>6.114035</td>\n",
       "      <td>1.315789</td>\n",
       "    </tr>\n",
       "    <tr>\n",
       "      <th>20637</th>\n",
       "      <td>-121.22</td>\n",
       "      <td>39.43</td>\n",
       "      <td>17.0</td>\n",
       "      <td>1007.0</td>\n",
       "      <td>433.0</td>\n",
       "      <td>1.7000</td>\n",
       "      <td>92300.0</td>\n",
       "      <td>0</td>\n",
       "      <td>1</td>\n",
       "      <td>0</td>\n",
       "      <td>0</td>\n",
       "      <td>0</td>\n",
       "      <td>5.205543</td>\n",
       "      <td>1.120092</td>\n",
       "    </tr>\n",
       "    <tr>\n",
       "      <th>20638</th>\n",
       "      <td>-121.32</td>\n",
       "      <td>39.43</td>\n",
       "      <td>18.0</td>\n",
       "      <td>741.0</td>\n",
       "      <td>349.0</td>\n",
       "      <td>1.8672</td>\n",
       "      <td>84700.0</td>\n",
       "      <td>0</td>\n",
       "      <td>1</td>\n",
       "      <td>0</td>\n",
       "      <td>0</td>\n",
       "      <td>0</td>\n",
       "      <td>5.329513</td>\n",
       "      <td>1.171920</td>\n",
       "    </tr>\n",
       "    <tr>\n",
       "      <th>20639</th>\n",
       "      <td>-121.24</td>\n",
       "      <td>39.37</td>\n",
       "      <td>16.0</td>\n",
       "      <td>1387.0</td>\n",
       "      <td>530.0</td>\n",
       "      <td>2.3886</td>\n",
       "      <td>89400.0</td>\n",
       "      <td>0</td>\n",
       "      <td>1</td>\n",
       "      <td>0</td>\n",
       "      <td>0</td>\n",
       "      <td>0</td>\n",
       "      <td>5.254717</td>\n",
       "      <td>1.162264</td>\n",
       "    </tr>\n",
       "  </tbody>\n",
       "</table>\n",
       "<p>20640 rows × 14 columns</p>\n",
       "</div>"
      ],
      "text/plain": [
       "       longitude  latitude  housing_median_age  population  households  \\\n",
       "0        -122.23     37.88                41.0       322.0       126.0   \n",
       "1        -122.22     37.86                21.0      2401.0      1138.0   \n",
       "2        -122.24     37.85                52.0       496.0       177.0   \n",
       "3        -122.25     37.85                52.0       558.0       219.0   \n",
       "4        -122.25     37.85                52.0       565.0       259.0   \n",
       "...          ...       ...                 ...         ...         ...   \n",
       "20635    -121.09     39.48                25.0       845.0       330.0   \n",
       "20636    -121.21     39.49                18.0       356.0       114.0   \n",
       "20637    -121.22     39.43                17.0      1007.0       433.0   \n",
       "20638    -121.32     39.43                18.0       741.0       349.0   \n",
       "20639    -121.24     39.37                16.0      1387.0       530.0   \n",
       "\n",
       "       median_income  median_house_value  ocean_proximity__<1H OCEAN  \\\n",
       "0             8.3252            452600.0                           0   \n",
       "1             8.3014            358500.0                           0   \n",
       "2             7.2574            352100.0                           0   \n",
       "3             5.6431            341300.0                           0   \n",
       "4             3.8462            342200.0                           0   \n",
       "...              ...                 ...                         ...   \n",
       "20635         1.5603             78100.0                           0   \n",
       "20636         2.5568             77100.0                           0   \n",
       "20637         1.7000             92300.0                           0   \n",
       "20638         1.8672             84700.0                           0   \n",
       "20639         2.3886             89400.0                           0   \n",
       "\n",
       "       ocean_proximity__INLAND  ocean_proximity__ISLAND  \\\n",
       "0                            0                        0   \n",
       "1                            0                        0   \n",
       "2                            0                        0   \n",
       "3                            0                        0   \n",
       "4                            0                        0   \n",
       "...                        ...                      ...   \n",
       "20635                        1                        0   \n",
       "20636                        1                        0   \n",
       "20637                        1                        0   \n",
       "20638                        1                        0   \n",
       "20639                        1                        0   \n",
       "\n",
       "       ocean_proximity__NEAR BAY  ocean_proximity__NEAR OCEAN  average_rooms  \\\n",
       "0                              1                            0       6.984127   \n",
       "1                              1                            0       6.238137   \n",
       "2                              1                            0       8.288136   \n",
       "3                              1                            0       5.817352   \n",
       "4                              1                            0       6.281853   \n",
       "...                          ...                          ...            ...   \n",
       "20635                          0                            0       5.045455   \n",
       "20636                          0                            0       6.114035   \n",
       "20637                          0                            0       5.205543   \n",
       "20638                          0                            0       5.329513   \n",
       "20639                          0                            0       5.254717   \n",
       "\n",
       "       average_bedrooms  \n",
       "0              1.023810  \n",
       "1              0.971880  \n",
       "2              1.073446  \n",
       "3              1.073059  \n",
       "4              1.081081  \n",
       "...                 ...  \n",
       "20635          1.133333  \n",
       "20636          1.315789  \n",
       "20637          1.120092  \n",
       "20638          1.171920  \n",
       "20639          1.162264  \n",
       "\n",
       "[20640 rows x 14 columns]"
      ]
     },
     "execution_count": 5,
     "metadata": {},
     "output_type": "execute_result"
    }
   ],
   "source": [
    "housing_dummies['average_rooms'] = housing_dummies['total_rooms']/housing_dummies['households']\n",
    "housing_dummies['average_bedrooms'] = housing_dummies['total_bedrooms']/housing_dummies['households']\n",
    "housing_dummies = housing_dummies.drop(['total_rooms','total_bedrooms'], axis=1)\n",
    "housing_dummies"
   ]
  },
  {
   "cell_type": "code",
   "execution_count": 6,
   "id": "bbe83fd4",
   "metadata": {},
   "outputs": [
    {
     "data": {
      "text/plain": [
       "207"
      ]
     },
     "execution_count": 6,
     "metadata": {},
     "output_type": "execute_result"
    }
   ],
   "source": [
    "sum(housing_dummies['average_bedrooms'].isnull())"
   ]
  },
  {
   "cell_type": "markdown",
   "id": "2c0b394e",
   "metadata": {},
   "source": [
    "В признаке average_bedrooms (total_bedrooms) есть отсутствующие значения. Определите число экземпляров данных, для которых этот признак отсутствует. Придумайте и обоснуйте стратегию заполнения пропусков в этой задаче. "
   ]
  },
  {
   "cell_type": "markdown",
   "id": "453ce2da",
   "metadata": {},
   "source": [
    "Изначально я хотел найти минимум и максимум в каждом столбце, затем найти запись, в которой среднее отклонение в процентах от записи, которую надо дополнить, минимальное, после чего перенести недостоющее значение из этой максимально похожей записи. \n",
    "\n",
    "Но в таком подходе есть существенный недостаток - если на average_bedrooms большое влияние оказывает какое-то одно поле, то значения могут сильно отклоняться. \n",
    "\n",
    "Поэтому я решил попробовать обучить какую-нибудь модель  "
   ]
  },
  {
   "cell_type": "markdown",
   "id": "5cffc066",
   "metadata": {},
   "source": [
    "Мда, ну это по любому из-за шума, сейчас всё почищу "
   ]
  },
  {
   "cell_type": "code",
   "execution_count": 8,
   "id": "60ff1619",
   "metadata": {},
   "outputs": [
    {
     "data": {
      "text/plain": [
       "<AxesSubplot:>"
      ]
     },
     "execution_count": 8,
     "metadata": {},
     "output_type": "execute_result"
    },
    {
     "data": {
      "image/png": "[encoded data removed]",
      "text/plain": [
       "<Figure size 432x288 with 1 Axes>"
      ]
     },
     "metadata": {
      "needs_background": "light"
     },
     "output_type": "display_data"
    }
   ],
   "source": [
    "housing_dummies_dna = housing_dummies.dropna(axis=0)\n",
    "housing_dummies_dna.boxplot(column=['population'])"
   ]
  },
  {
   "cell_type": "code",
   "execution_count": 9,
   "id": "c03ded8e",
   "metadata": {},
   "outputs": [
    {
     "data": {
      "text/plain": [
       "<AxesSubplot:>"
      ]
     },
     "execution_count": 9,
     "metadata": {},
     "output_type": "execute_result"
    },
    {
     "data": {
      "image/png": "[encoded data removed]",
      "text/plain": [
       "<Figure size 432x288 with 1 Axes>"
      ]
     },
     "metadata": {
      "needs_background": "light"
     },
     "output_type": "display_data"
    }
   ],
   "source": [
    "housing_dummies_dna.boxplot(column=['average_rooms'])"
   ]
  },
  {
   "cell_type": "code",
   "execution_count": 10,
   "id": "1ba86fd7",
   "metadata": {
    "scrolled": true
   },
   "outputs": [
    {
     "data": {
      "text/plain": [
       "<AxesSubplot:>"
      ]
     },
     "execution_count": 10,
     "metadata": {},
     "output_type": "execute_result"
    },
    {
     "data": {
      "image/png": "[encoded data removed]",
      "text/plain": [
       "<Figure size 432x288 with 1 Axes>"
      ]
     },
     "metadata": {
      "needs_background": "light"
     },
     "output_type": "display_data"
    }
   ],
   "source": [
    "housing_dummies_dna.boxplot(column=['average_bedrooms'])"
   ]
  },
  {
   "cell_type": "markdown",
   "id": "6f270434",
   "metadata": {},
   "source": [
    "Теперь с отчищенными"
   ]
  },
  {
   "cell_type": "code",
   "execution_count": 11,
   "id": "88d6627a",
   "metadata": {},
   "outputs": [],
   "source": [
    "def prepare_to_lin_reg(x):\n",
    "    x = x.dropna(axis=0).drop('median_house_value',axis=1)\n",
    "    x = x.loc[housing_dummies_dna['population'] < 4000]\n",
    "    x = x.loc[housing_dummies_dna['average_rooms'] < 10]\n",
    "    x = x.loc[housing_dummies_dna['average_bedrooms'] < 2]\n",
    "    return x"
   ]
  },
  {
   "cell_type": "code",
   "execution_count": 14,
   "id": "2036c44b",
   "metadata": {},
   "outputs": [
    {
     "data": {
      "text/plain": [
       "0.008972859024968341"
      ]
     },
     "execution_count": 14,
     "metadata": {},
     "output_type": "execute_result"
    }
   ],
   "source": [
    "from sklearn.linear_model import LinearRegression\n",
    "from sklearn.metrics import mean_squared_error\n",
    "\n",
    "housing_dummies_dna = housing_dummies.dropna(axis=0).drop('median_house_value',axis=1)\n",
    "\n",
    "housing_train_val, housing_test =  train_test_split( housing_dummies, test_size =0.1)\n",
    "housing_train, housing_val =  train_test_split( housing_train_val, test_size =0.1)\n",
    "\n",
    "x_train = prepare_to_lin_reg(housing_train).drop('average_bedrooms',axis=1)\n",
    "y_train = prepare_to_lin_reg(housing_train)['average_bedrooms']\n",
    "\n",
    "x_test = prepare_to_lin_reg(housing_test).drop('average_bedrooms',axis=1)\n",
    "y_test = prepare_to_lin_reg(housing_test)['average_bedrooms']\n",
    "\n",
    "lin_reg = LinearRegression()\n",
    "lin_reg.fit(x_train, y_train)\n",
    "mean_squared_error(y_train, lin_reg.predict(x_train))"
   ]
  },
  {
   "cell_type": "markdown",
   "id": "1385f960",
   "metadata": {},
   "source": [
    "Сравним со средней ошибкой просто среднего значения без вбросов по столбцу в тренеровочной выборке"
   ]
  },
  {
   "cell_type": "code",
   "execution_count": 15,
   "id": "802dd3f0",
   "metadata": {},
   "outputs": [
    {
     "data": {
      "text/plain": [
       "0.008437672455701654"
      ]
     },
     "execution_count": 15,
     "metadata": {},
     "output_type": "execute_result"
    }
   ],
   "source": [
    "mean_squared_error(y_test, lin_reg.predict(x_test))"
   ]
  },
  {
   "cell_type": "code",
   "execution_count": 16,
   "id": "2b269507",
   "metadata": {},
   "outputs": [
    {
     "data": {
      "text/plain": [
       "0.010668503143621657"
      ]
     },
     "execution_count": 16,
     "metadata": {},
     "output_type": "execute_result"
    }
   ],
   "source": [
    "mean_squared_error(y_test, np.linspace(np.mean(y_train),np.mean(y_train), len(y_test)))"
   ]
  },
  {
   "cell_type": "code",
   "execution_count": 18,
   "id": "b424d400",
   "metadata": {
    "scrolled": true
   },
   "outputs": [
    {
     "data": {
      "text/plain": [
       "[<matplotlib.lines.Line2D at 0x1cde19963a0>]"
      ]
     },
     "execution_count": 18,
     "metadata": {},
     "output_type": "execute_result"
    },
    {
     "data": {
      "image/png": "[encoded data removed]",
      "text/plain": [
       "<Figure size 432x288 with 1 Axes>"
      ]
     },
     "metadata": {
      "needs_background": "light"
     },
     "output_type": "display_data"
    }
   ],
   "source": [
    "import matplotlib.pyplot as plt\n",
    "import numpy as np\n",
    "\n",
    "plt.scatter(y_test, lin_reg.predict(x_test), s = 1)\n",
    "plt.scatter(y_test, np.linspace(np.mean(y_train),np.mean(y_train), len(y_test)), s = 1)\n",
    "x = np.linspace(min(y_test), max(y_test), 2)\n",
    "plt.plot(x, x, c ='black')"
   ]
  },
  {
   "cell_type": "markdown",
   "id": "498361c6",
   "metadata": {},
   "source": [
    "Итоговая прибавка к точности выглядит жалко ![jupyter](https://pbs.twimg.com/media/EB2KuSzXoAAEHBW.jpg:small)"
   ]
  },
  {
   "cell_type": "markdown",
   "id": "b702f54b",
   "metadata": {},
   "source": [
    "Нормализуйте признаки longitude и latitude (сделайте так, чтобы каждый признак имел среднее значение 0 и дисперсию 1 внутри обучающей выборки)"
   ]
  },
  {
   "cell_type": "code",
   "execution_count": 19,
   "id": "9dbf00b9",
   "metadata": {},
   "outputs": [],
   "source": [
    "housing_train_null = housing_train['average_bedrooms'].isnull()\n",
    "housing_test_null = housing_test['average_bedrooms'].isnull()\n",
    "housing_val_null = housing_val['average_bedrooms'].isnull()"
   ]
  },
  {
   "cell_type": "code",
   "execution_count": 20,
   "id": "30f5e4e1",
   "metadata": {},
   "outputs": [],
   "source": [
    "x_train = housing_train.loc[housing_train_null].drop('average_bedrooms',axis=1).drop('median_house_value',axis=1)\n",
    "x_test = housing_test.loc[housing_test_null].drop('average_bedrooms',axis=1).drop('median_house_value',axis=1)\n",
    "x_val = housing_val.loc[housing_val_null].drop('average_bedrooms',axis=1).drop('median_house_value',axis=1)"
   ]
  },
  {
   "cell_type": "code",
   "execution_count": 21,
   "id": "99f209c3",
   "metadata": {
    "scrolled": false
   },
   "outputs": [],
   "source": [
    "housing_train.loc[housing_train_null, 'average_bedrooms' ] = lin_reg.predict(x_train)\n",
    "housing_test.loc[housing_test_null, 'average_bedrooms' ] = lin_reg.predict(x_test)\n",
    "housing_val.loc[housing_val_null, 'average_bedrooms' ] = lin_reg.predict(x_val)"
   ]
  },
  {
   "cell_type": "code",
   "execution_count": 22,
   "id": "b23032d9",
   "metadata": {},
   "outputs": [
    {
     "data": {
      "text/plain": [
       "0"
      ]
     },
     "execution_count": 22,
     "metadata": {},
     "output_type": "execute_result"
    }
   ],
   "source": [
    "sum(housing_train['average_bedrooms'].isnull())"
   ]
  },
  {
   "cell_type": "code",
   "execution_count": 23,
   "id": "c362e916",
   "metadata": {},
   "outputs": [],
   "source": [
    "from sklearn import preprocessing"
   ]
  },
  {
   "cell_type": "code",
   "execution_count": 24,
   "id": "82608c82",
   "metadata": {},
   "outputs": [],
   "source": [
    "scaler_longitude = preprocessing.StandardScaler().fit(housing_train[['longitude']])\n",
    "scaler_latitude = preprocessing.StandardScaler().fit(housing_train[['latitude']])\n"
   ]
  },
  {
   "cell_type": "code",
   "execution_count": 25,
   "id": "7a974348",
   "metadata": {},
   "outputs": [
    {
     "name": "stdout",
     "output_type": "stream",
     "text": [
      "-5.536903630885695e-15\n",
      "0.9999999999999999\n",
      "-0.030853415264447594\n",
      "1.009246939395505\n"
     ]
    }
   ],
   "source": [
    "housing_train['longitude'] = scaler_longitude.transform(housing_train[['longitude']]).reshape(-1)\n",
    "housing_train['latitude'] = scaler_latitude.transform(housing_train[['latitude']]).reshape(-1)\n",
    "\n",
    "housing_test['longitude'] = scaler_longitude.transform(housing_test[['longitude']]).reshape(-1)\n",
    "housing_test['latitude'] = scaler_latitude.transform(housing_test[['latitude']]).reshape(-1)\n",
    "\n",
    "housing_val['longitude'] = scaler_longitude.transform(housing_val[['longitude']]).reshape(-1)\n",
    "housing_val['latitude'] = scaler_latitude.transform(housing_val[['latitude']]).reshape(-1)\n",
    "\n",
    "print(housing_train['longitude'].to_numpy().mean(axis = 0))\n",
    "print(housing_train['longitude'].to_numpy().std(axis = 0))\n",
    "\n",
    "print(housing_test['longitude'].to_numpy().mean(axis = 0))\n",
    "print(housing_test['longitude'].to_numpy().std(axis = 0))"
   ]
  },
  {
   "cell_type": "markdown",
   "id": "929c059a",
   "metadata": {},
   "source": [
    "2.2"
   ]
  },
  {
   "cell_type": "markdown",
   "id": "524ce5e5",
   "metadata": {},
   "source": [
    " Возьмите данные с листа 1 и выделите валидационную и тестовую выборку."
   ]
  },
  {
   "cell_type": "code",
   "execution_count": 26,
   "id": "ee5e3e1e",
   "metadata": {},
   "outputs": [],
   "source": [
    "ccpp_df = pd.read_excel('CCPP.xlsx')"
   ]
  },
  {
   "cell_type": "code",
   "execution_count": 27,
   "id": "7a410f4a",
   "metadata": {},
   "outputs": [
    {
     "data": {
      "text/html": [
       "<div>\n",
       "<style scoped>\n",
       "    .dataframe tbody tr th:only-of-type {\n",
       "        vertical-align: middle;\n",
       "    }\n",
       "\n",
       "    .dataframe tbody tr th {\n",
       "        vertical-align: top;\n",
       "    }\n",
       "\n",
       "    .dataframe thead th {\n",
       "        text-align: right;\n",
       "    }\n",
       "</style>\n",
       "<table border=\"1\" class=\"dataframe\">\n",
       "  <thead>\n",
       "    <tr style=\"text-align: right;\">\n",
       "      <th></th>\n",
       "      <th>AT</th>\n",
       "      <th>V</th>\n",
       "      <th>AP</th>\n",
       "      <th>RH</th>\n",
       "      <th>PE</th>\n",
       "    </tr>\n",
       "  </thead>\n",
       "  <tbody>\n",
       "    <tr>\n",
       "      <th>0</th>\n",
       "      <td>14.96</td>\n",
       "      <td>41.76</td>\n",
       "      <td>1024.07</td>\n",
       "      <td>73.17</td>\n",
       "      <td>463.26</td>\n",
       "    </tr>\n",
       "    <tr>\n",
       "      <th>1</th>\n",
       "      <td>25.18</td>\n",
       "      <td>62.96</td>\n",
       "      <td>1020.04</td>\n",
       "      <td>59.08</td>\n",
       "      <td>444.37</td>\n",
       "    </tr>\n",
       "    <tr>\n",
       "      <th>2</th>\n",
       "      <td>5.11</td>\n",
       "      <td>39.40</td>\n",
       "      <td>1012.16</td>\n",
       "      <td>92.14</td>\n",
       "      <td>488.56</td>\n",
       "    </tr>\n",
       "    <tr>\n",
       "      <th>3</th>\n",
       "      <td>20.86</td>\n",
       "      <td>57.32</td>\n",
       "      <td>1010.24</td>\n",
       "      <td>76.64</td>\n",
       "      <td>446.48</td>\n",
       "    </tr>\n",
       "    <tr>\n",
       "      <th>4</th>\n",
       "      <td>10.82</td>\n",
       "      <td>37.50</td>\n",
       "      <td>1009.23</td>\n",
       "      <td>96.62</td>\n",
       "      <td>473.90</td>\n",
       "    </tr>\n",
       "    <tr>\n",
       "      <th>...</th>\n",
       "      <td>...</td>\n",
       "      <td>...</td>\n",
       "      <td>...</td>\n",
       "      <td>...</td>\n",
       "      <td>...</td>\n",
       "    </tr>\n",
       "    <tr>\n",
       "      <th>9563</th>\n",
       "      <td>16.65</td>\n",
       "      <td>49.69</td>\n",
       "      <td>1014.01</td>\n",
       "      <td>91.00</td>\n",
       "      <td>460.03</td>\n",
       "    </tr>\n",
       "    <tr>\n",
       "      <th>9564</th>\n",
       "      <td>13.19</td>\n",
       "      <td>39.18</td>\n",
       "      <td>1023.67</td>\n",
       "      <td>66.78</td>\n",
       "      <td>469.62</td>\n",
       "    </tr>\n",
       "    <tr>\n",
       "      <th>9565</th>\n",
       "      <td>31.32</td>\n",
       "      <td>74.33</td>\n",
       "      <td>1012.92</td>\n",
       "      <td>36.48</td>\n",
       "      <td>429.57</td>\n",
       "    </tr>\n",
       "    <tr>\n",
       "      <th>9566</th>\n",
       "      <td>24.48</td>\n",
       "      <td>69.45</td>\n",
       "      <td>1013.86</td>\n",
       "      <td>62.39</td>\n",
       "      <td>435.74</td>\n",
       "    </tr>\n",
       "    <tr>\n",
       "      <th>9567</th>\n",
       "      <td>21.60</td>\n",
       "      <td>62.52</td>\n",
       "      <td>1017.23</td>\n",
       "      <td>67.87</td>\n",
       "      <td>453.28</td>\n",
       "    </tr>\n",
       "  </tbody>\n",
       "</table>\n",
       "<p>9568 rows × 5 columns</p>\n",
       "</div>"
      ],
      "text/plain": [
       "         AT      V       AP     RH      PE\n",
       "0     14.96  41.76  1024.07  73.17  463.26\n",
       "1     25.18  62.96  1020.04  59.08  444.37\n",
       "2      5.11  39.40  1012.16  92.14  488.56\n",
       "3     20.86  57.32  1010.24  76.64  446.48\n",
       "4     10.82  37.50  1009.23  96.62  473.90\n",
       "...     ...    ...      ...    ...     ...\n",
       "9563  16.65  49.69  1014.01  91.00  460.03\n",
       "9564  13.19  39.18  1023.67  66.78  469.62\n",
       "9565  31.32  74.33  1012.92  36.48  429.57\n",
       "9566  24.48  69.45  1013.86  62.39  435.74\n",
       "9567  21.60  62.52  1017.23  67.87  453.28\n",
       "\n",
       "[9568 rows x 5 columns]"
      ]
     },
     "execution_count": 27,
     "metadata": {},
     "output_type": "execute_result"
    }
   ],
   "source": [
    "ccpp_df"
   ]
  },
  {
   "cell_type": "code",
   "execution_count": 28,
   "id": "cd7526ce",
   "metadata": {},
   "outputs": [],
   "source": [
    "import sklearn as sk"
   ]
  },
  {
   "cell_type": "code",
   "execution_count": 29,
   "id": "7a2c8b46",
   "metadata": {},
   "outputs": [],
   "source": [
    "from sklearn.linear_model import LinearRegression"
   ]
  },
  {
   "cell_type": "code",
   "execution_count": 30,
   "id": "86e3e9a2",
   "metadata": {},
   "outputs": [],
   "source": [
    "from sklearn.model_selection import train_test_split"
   ]
  },
  {
   "cell_type": "code",
   "execution_count": 31,
   "id": "bfe3261e",
   "metadata": {},
   "outputs": [],
   "source": [
    "ccpp_train_val, ccpp_test = train_test_split(ccpp_df, test_size=0.1)\n",
    "ccpp_train, ccpp_val = train_test_split(ccpp_train_val, test_size=0.1)"
   ]
  },
  {
   "cell_type": "markdown",
   "id": "d945c13a",
   "metadata": {},
   "source": [
    "Постройте регрессионную модель.  Замерьте коэффициент  и среднюю ошибку предсказания на валидационной выборке.\n"
   ]
  },
  {
   "cell_type": "code",
   "execution_count": 32,
   "id": "d02521e9",
   "metadata": {},
   "outputs": [],
   "source": [
    "reg = LinearRegression()"
   ]
  },
  {
   "cell_type": "code",
   "execution_count": 33,
   "id": "426f0e58",
   "metadata": {},
   "outputs": [],
   "source": [
    "X_train, y_train = ccpp_train.drop(\"PE\",axis=1), ccpp_train['PE']"
   ]
  },
  {
   "cell_type": "code",
   "execution_count": 34,
   "id": "2d36bec4",
   "metadata": {},
   "outputs": [
    {
     "data": {
      "text/plain": [
       "LinearRegression()"
      ]
     },
     "execution_count": 34,
     "metadata": {},
     "output_type": "execute_result"
    }
   ],
   "source": [
    "reg.fit(X_train, y_train)"
   ]
  },
  {
   "cell_type": "code",
   "execution_count": 35,
   "id": "3d024cc8",
   "metadata": {},
   "outputs": [],
   "source": [
    "from sklearn.metrics import r2_score\n",
    "from sklearn.metrics import mean_absolute_error"
   ]
  },
  {
   "cell_type": "code",
   "execution_count": 36,
   "id": "37ae88a2",
   "metadata": {},
   "outputs": [],
   "source": [
    "predictions = reg.predict(ccpp_val.drop(\"PE\",axis=1))\n"
   ]
  },
  {
   "cell_type": "markdown",
   "id": "98fd4a01",
   "metadata": {},
   "source": [
    "Нахождение $R^2$"
   ]
  },
  {
   "cell_type": "code",
   "execution_count": 37,
   "id": "dc73fe58",
   "metadata": {},
   "outputs": [
    {
     "data": {
      "text/plain": [
       "0.9352879762927323"
      ]
     },
     "execution_count": 37,
     "metadata": {},
     "output_type": "execute_result"
    }
   ],
   "source": [
    "r2 = r2_score(ccpp_val['PE'], predictions)\n",
    "r2"
   ]
  },
  {
   "cell_type": "markdown",
   "id": "6f689984",
   "metadata": {},
   "source": [
    "Нахождение средней ошибки предсказаний"
   ]
  },
  {
   "cell_type": "code",
   "execution_count": 38,
   "id": "806e81be",
   "metadata": {},
   "outputs": [
    {
     "data": {
      "text/plain": [
       "3.6096165100003144"
      ]
     },
     "execution_count": 38,
     "metadata": {},
     "output_type": "execute_result"
    }
   ],
   "source": [
    "mae = mean_absolute_error(ccpp_val['PE'], predictions)\n",
    "mae"
   ]
  },
  {
   "cell_type": "markdown",
   "id": "ebfc8234",
   "metadata": {},
   "source": [
    "Постройте точки из валидационной выборки на плоскости (t=истинное значение, y=предсказание модели). Отобразите вместе с ними прямую y=t. \n"
   ]
  },
  {
   "cell_type": "code",
   "execution_count": 39,
   "id": "581d4825",
   "metadata": {},
   "outputs": [],
   "source": [
    "import matplotlib.pyplot as plt\n",
    "import numpy as np"
   ]
  },
  {
   "cell_type": "code",
   "execution_count": 40,
   "id": "b1967662",
   "metadata": {
    "scrolled": true
   },
   "outputs": [
    {
     "data": {
      "text/plain": [
       "[<matplotlib.lines.Line2D at 0x1cde302f970>]"
      ]
     },
     "execution_count": 40,
     "metadata": {},
     "output_type": "execute_result"
    },
    {
     "data": {
      "image/png": "[encoded data removed]",
      "text/plain": [
       "<Figure size 432x288 with 1 Axes>"
      ]
     },
     "metadata": {
      "needs_background": "light"
     },
     "output_type": "display_data"
    }
   ],
   "source": [
    "ax = plt.gca()\n",
    "ax.cla()\n",
    "ax.set_xlim((420, 500))\n",
    "ax.set_ylim((420, 500))\n",
    "\n",
    "plt.scatter(ccpp_val['PE'], predictions, s = 1)\n",
    "plt.plot(np.linspace(420,500),np.linspace(420,500), c = 'black')"
   ]
  },
  {
   "cell_type": "markdown",
   "id": "1d8befa7",
   "metadata": {},
   "source": [
    "2.1"
   ]
  },
  {
   "cell_type": "code",
   "execution_count": 41,
   "id": "83d3351e",
   "metadata": {
    "scrolled": false
   },
   "outputs": [
    {
     "data": {
      "text/html": [
       "<div>\n",
       "<style scoped>\n",
       "    .dataframe tbody tr th:only-of-type {\n",
       "        vertical-align: middle;\n",
       "    }\n",
       "\n",
       "    .dataframe tbody tr th {\n",
       "        vertical-align: top;\n",
       "    }\n",
       "\n",
       "    .dataframe thead th {\n",
       "        text-align: right;\n",
       "    }\n",
       "</style>\n",
       "<table border=\"1\" class=\"dataframe\">\n",
       "  <thead>\n",
       "    <tr style=\"text-align: right;\">\n",
       "      <th></th>\n",
       "      <th>Unnamed: 0</th>\n",
       "      <th>sex</th>\n",
       "      <th>weight</th>\n",
       "      <th>height</th>\n",
       "      <th>repwt</th>\n",
       "      <th>repht</th>\n",
       "    </tr>\n",
       "  </thead>\n",
       "  <tbody>\n",
       "    <tr>\n",
       "      <th>0</th>\n",
       "      <td>1</td>\n",
       "      <td>M</td>\n",
       "      <td>77</td>\n",
       "      <td>182</td>\n",
       "      <td>77.0</td>\n",
       "      <td>180.0</td>\n",
       "    </tr>\n",
       "    <tr>\n",
       "      <th>1</th>\n",
       "      <td>2</td>\n",
       "      <td>F</td>\n",
       "      <td>58</td>\n",
       "      <td>161</td>\n",
       "      <td>51.0</td>\n",
       "      <td>159.0</td>\n",
       "    </tr>\n",
       "    <tr>\n",
       "      <th>2</th>\n",
       "      <td>3</td>\n",
       "      <td>F</td>\n",
       "      <td>53</td>\n",
       "      <td>161</td>\n",
       "      <td>54.0</td>\n",
       "      <td>158.0</td>\n",
       "    </tr>\n",
       "    <tr>\n",
       "      <th>3</th>\n",
       "      <td>4</td>\n",
       "      <td>M</td>\n",
       "      <td>68</td>\n",
       "      <td>177</td>\n",
       "      <td>70.0</td>\n",
       "      <td>175.0</td>\n",
       "    </tr>\n",
       "    <tr>\n",
       "      <th>4</th>\n",
       "      <td>5</td>\n",
       "      <td>F</td>\n",
       "      <td>59</td>\n",
       "      <td>157</td>\n",
       "      <td>59.0</td>\n",
       "      <td>155.0</td>\n",
       "    </tr>\n",
       "    <tr>\n",
       "      <th>...</th>\n",
       "      <td>...</td>\n",
       "      <td>...</td>\n",
       "      <td>...</td>\n",
       "      <td>...</td>\n",
       "      <td>...</td>\n",
       "      <td>...</td>\n",
       "    </tr>\n",
       "    <tr>\n",
       "      <th>195</th>\n",
       "      <td>196</td>\n",
       "      <td>M</td>\n",
       "      <td>74</td>\n",
       "      <td>175</td>\n",
       "      <td>71.0</td>\n",
       "      <td>175.0</td>\n",
       "    </tr>\n",
       "    <tr>\n",
       "      <th>196</th>\n",
       "      <td>197</td>\n",
       "      <td>M</td>\n",
       "      <td>83</td>\n",
       "      <td>180</td>\n",
       "      <td>80.0</td>\n",
       "      <td>180.0</td>\n",
       "    </tr>\n",
       "    <tr>\n",
       "      <th>197</th>\n",
       "      <td>198</td>\n",
       "      <td>M</td>\n",
       "      <td>81</td>\n",
       "      <td>175</td>\n",
       "      <td>NaN</td>\n",
       "      <td>NaN</td>\n",
       "    </tr>\n",
       "    <tr>\n",
       "      <th>198</th>\n",
       "      <td>199</td>\n",
       "      <td>M</td>\n",
       "      <td>90</td>\n",
       "      <td>181</td>\n",
       "      <td>91.0</td>\n",
       "      <td>178.0</td>\n",
       "    </tr>\n",
       "    <tr>\n",
       "      <th>199</th>\n",
       "      <td>200</td>\n",
       "      <td>M</td>\n",
       "      <td>79</td>\n",
       "      <td>177</td>\n",
       "      <td>81.0</td>\n",
       "      <td>178.0</td>\n",
       "    </tr>\n",
       "  </tbody>\n",
       "</table>\n",
       "<p>200 rows × 6 columns</p>\n",
       "</div>"
      ],
      "text/plain": [
       "     Unnamed: 0 sex  weight  height  repwt  repht\n",
       "0             1   M      77     182   77.0  180.0\n",
       "1             2   F      58     161   51.0  159.0\n",
       "2             3   F      53     161   54.0  158.0\n",
       "3             4   M      68     177   70.0  175.0\n",
       "4             5   F      59     157   59.0  155.0\n",
       "..          ...  ..     ...     ...    ...    ...\n",
       "195         196   M      74     175   71.0  175.0\n",
       "196         197   M      83     180   80.0  180.0\n",
       "197         198   M      81     175    NaN    NaN\n",
       "198         199   M      90     181   91.0  178.0\n",
       "199         200   M      79     177   81.0  178.0\n",
       "\n",
       "[200 rows x 6 columns]"
      ]
     },
     "execution_count": 41,
     "metadata": {},
     "output_type": "execute_result"
    }
   ],
   "source": [
    "davis_df = pd.read_csv('Davis.csv')\n",
    "davis_df"
   ]
  },
  {
   "cell_type": "markdown",
   "id": "c127e087",
   "metadata": {},
   "source": [
    " Удалите некорректные данные\n"
   ]
  },
  {
   "cell_type": "code",
   "execution_count": 42,
   "id": "ead41be8",
   "metadata": {},
   "outputs": [
    {
     "data": {
      "text/html": [
       "<div>\n",
       "<style scoped>\n",
       "    .dataframe tbody tr th:only-of-type {\n",
       "        vertical-align: middle;\n",
       "    }\n",
       "\n",
       "    .dataframe tbody tr th {\n",
       "        vertical-align: top;\n",
       "    }\n",
       "\n",
       "    .dataframe thead th {\n",
       "        text-align: right;\n",
       "    }\n",
       "</style>\n",
       "<table border=\"1\" class=\"dataframe\">\n",
       "  <thead>\n",
       "    <tr style=\"text-align: right;\">\n",
       "      <th></th>\n",
       "      <th>sex</th>\n",
       "      <th>weight</th>\n",
       "      <th>height</th>\n",
       "      <th>repwt</th>\n",
       "      <th>repht</th>\n",
       "    </tr>\n",
       "  </thead>\n",
       "  <tbody>\n",
       "    <tr>\n",
       "      <th>0</th>\n",
       "      <td>M</td>\n",
       "      <td>77</td>\n",
       "      <td>182</td>\n",
       "      <td>77.0</td>\n",
       "      <td>180.0</td>\n",
       "    </tr>\n",
       "    <tr>\n",
       "      <th>1</th>\n",
       "      <td>F</td>\n",
       "      <td>58</td>\n",
       "      <td>161</td>\n",
       "      <td>51.0</td>\n",
       "      <td>159.0</td>\n",
       "    </tr>\n",
       "    <tr>\n",
       "      <th>2</th>\n",
       "      <td>F</td>\n",
       "      <td>53</td>\n",
       "      <td>161</td>\n",
       "      <td>54.0</td>\n",
       "      <td>158.0</td>\n",
       "    </tr>\n",
       "    <tr>\n",
       "      <th>3</th>\n",
       "      <td>M</td>\n",
       "      <td>68</td>\n",
       "      <td>177</td>\n",
       "      <td>70.0</td>\n",
       "      <td>175.0</td>\n",
       "    </tr>\n",
       "    <tr>\n",
       "      <th>4</th>\n",
       "      <td>F</td>\n",
       "      <td>59</td>\n",
       "      <td>157</td>\n",
       "      <td>59.0</td>\n",
       "      <td>155.0</td>\n",
       "    </tr>\n",
       "    <tr>\n",
       "      <th>...</th>\n",
       "      <td>...</td>\n",
       "      <td>...</td>\n",
       "      <td>...</td>\n",
       "      <td>...</td>\n",
       "      <td>...</td>\n",
       "    </tr>\n",
       "    <tr>\n",
       "      <th>195</th>\n",
       "      <td>M</td>\n",
       "      <td>74</td>\n",
       "      <td>175</td>\n",
       "      <td>71.0</td>\n",
       "      <td>175.0</td>\n",
       "    </tr>\n",
       "    <tr>\n",
       "      <th>196</th>\n",
       "      <td>M</td>\n",
       "      <td>83</td>\n",
       "      <td>180</td>\n",
       "      <td>80.0</td>\n",
       "      <td>180.0</td>\n",
       "    </tr>\n",
       "    <tr>\n",
       "      <th>197</th>\n",
       "      <td>M</td>\n",
       "      <td>81</td>\n",
       "      <td>175</td>\n",
       "      <td>NaN</td>\n",
       "      <td>NaN</td>\n",
       "    </tr>\n",
       "    <tr>\n",
       "      <th>198</th>\n",
       "      <td>M</td>\n",
       "      <td>90</td>\n",
       "      <td>181</td>\n",
       "      <td>91.0</td>\n",
       "      <td>178.0</td>\n",
       "    </tr>\n",
       "    <tr>\n",
       "      <th>199</th>\n",
       "      <td>M</td>\n",
       "      <td>79</td>\n",
       "      <td>177</td>\n",
       "      <td>81.0</td>\n",
       "      <td>178.0</td>\n",
       "    </tr>\n",
       "  </tbody>\n",
       "</table>\n",
       "<p>198 rows × 5 columns</p>\n",
       "</div>"
      ],
      "text/plain": [
       "    sex  weight  height  repwt  repht\n",
       "0     M      77     182   77.0  180.0\n",
       "1     F      58     161   51.0  159.0\n",
       "2     F      53     161   54.0  158.0\n",
       "3     M      68     177   70.0  175.0\n",
       "4     F      59     157   59.0  155.0\n",
       "..   ..     ...     ...    ...    ...\n",
       "195   M      74     175   71.0  175.0\n",
       "196   M      83     180   80.0  180.0\n",
       "197   M      81     175    NaN    NaN\n",
       "198   M      90     181   91.0  178.0\n",
       "199   M      79     177   81.0  178.0\n",
       "\n",
       "[198 rows x 5 columns]"
      ]
     },
     "execution_count": 42,
     "metadata": {},
     "output_type": "execute_result"
    }
   ],
   "source": [
    "davis_df = davis_df.drop('Unnamed: 0', axis=1)\n",
    "davis_df = davis_df.loc[davis_df['weight'] > 40]\n",
    "davis_df = davis_df.loc[davis_df['height'] > 120]\n",
    "davis_df"
   ]
  },
  {
   "cell_type": "markdown",
   "id": "a5330ba2",
   "metadata": {},
   "source": [
    "Выделите тестовую выборку из 50 экземпляров"
   ]
  },
  {
   "cell_type": "code",
   "execution_count": 43,
   "id": "02cecf23",
   "metadata": {},
   "outputs": [],
   "source": [
    "davis_train, davis_test = train_test_split(davis_df, test_size = 50, stratify=davis_df['sex'])"
   ]
  },
  {
   "cell_type": "markdown",
   "id": "5eb27b27",
   "metadata": {},
   "source": [
    "Гистограммa weight\n"
   ]
  },
  {
   "cell_type": "code",
   "execution_count": 44,
   "id": "2e6de248",
   "metadata": {
    "scrolled": true
   },
   "outputs": [
    {
     "data": {
      "text/plain": [
       "<AxesSubplot:xlabel='weight', ylabel='Count'>"
      ]
     },
     "execution_count": 44,
     "metadata": {},
     "output_type": "execute_result"
    },
    {
     "data": {
      "image/png": "[encoded data removed]",
      "text/plain": [
       "<Figure size 432x288 with 1 Axes>"
      ]
     },
     "metadata": {
      "needs_background": "light"
     },
     "output_type": "display_data"
    }
   ],
   "source": [
    "import seaborn as sns\n",
    "sns.histplot(davis_train['weight'])\n"
   ]
  },
  {
   "cell_type": "markdown",
   "id": "5d97700a",
   "metadata": {},
   "source": [
    "Гистограммa height"
   ]
  },
  {
   "cell_type": "code",
   "execution_count": 45,
   "id": "8e429400",
   "metadata": {
    "scrolled": true
   },
   "outputs": [
    {
     "data": {
      "text/plain": [
       "<AxesSubplot:xlabel='height', ylabel='Count'>"
      ]
     },
     "execution_count": 45,
     "metadata": {},
     "output_type": "execute_result"
    },
    {
     "data": {
      "image/png": "[encoded data removed]",
      "text/plain": [
       "<Figure size 432x288 with 1 Axes>"
      ]
     },
     "metadata": {
      "needs_background": "light"
     },
     "output_type": "display_data"
    }
   ],
   "source": [
    "sns.histplot(davis_train['height'])"
   ]
  },
  {
   "cell_type": "markdown",
   "id": "824a297a",
   "metadata": {},
   "source": [
    "Эти же гистограммы для разных полов"
   ]
  },
  {
   "cell_type": "code",
   "execution_count": 46,
   "id": "c4938315",
   "metadata": {
    "scrolled": true
   },
   "outputs": [
    {
     "data": {
      "text/plain": [
       "<AxesSubplot:xlabel='weight', ylabel='Count'>"
      ]
     },
     "execution_count": 46,
     "metadata": {},
     "output_type": "execute_result"
    },
    {
     "data": {
      "image/png": "[encoded data removed]",
      "text/plain": [
       "<Figure size 432x288 with 1 Axes>"
      ]
     },
     "metadata": {
      "needs_background": "light"
     },
     "output_type": "display_data"
    }
   ],
   "source": [
    "sns.histplot(davis_train[davis_train['sex'] =='M']['weight'])\n",
    "sns.histplot(davis_train[davis_train['sex'] =='M']['height'], color='blue')\n",
    "\n",
    "sns.histplot(davis_train[davis_train['sex'] =='F']['weight'], color='red')\n",
    "sns.histplot(davis_train[davis_train['sex'] =='F']['height'], color='pink')\n"
   ]
  },
  {
   "cell_type": "markdown",
   "id": "1a90214f",
   "metadata": {},
   "source": [
    " На тренировочных данных обучите классификатор пола (sex), используя только признаки height и weight."
   ]
  },
  {
   "cell_type": "code",
   "execution_count": 47,
   "id": "bdad0393",
   "metadata": {
    "scrolled": true
   },
   "outputs": [
    {
     "data": {
      "text/html": [
       "<div>\n",
       "<style scoped>\n",
       "    .dataframe tbody tr th:only-of-type {\n",
       "        vertical-align: middle;\n",
       "    }\n",
       "\n",
       "    .dataframe tbody tr th {\n",
       "        vertical-align: top;\n",
       "    }\n",
       "\n",
       "    .dataframe thead th {\n",
       "        text-align: right;\n",
       "    }\n",
       "</style>\n",
       "<table border=\"1\" class=\"dataframe\">\n",
       "  <thead>\n",
       "    <tr style=\"text-align: right;\">\n",
       "      <th></th>\n",
       "      <th>sex</th>\n",
       "      <th>weight</th>\n",
       "      <th>height</th>\n",
       "      <th>repwt</th>\n",
       "      <th>repht</th>\n",
       "    </tr>\n",
       "  </thead>\n",
       "  <tbody>\n",
       "    <tr>\n",
       "      <th>157</th>\n",
       "      <td>0</td>\n",
       "      <td>59</td>\n",
       "      <td>170</td>\n",
       "      <td>NaN</td>\n",
       "      <td>NaN</td>\n",
       "    </tr>\n",
       "    <tr>\n",
       "      <th>136</th>\n",
       "      <td>0</td>\n",
       "      <td>64</td>\n",
       "      <td>172</td>\n",
       "      <td>62.0</td>\n",
       "      <td>168.0</td>\n",
       "    </tr>\n",
       "    <tr>\n",
       "      <th>76</th>\n",
       "      <td>0</td>\n",
       "      <td>50</td>\n",
       "      <td>160</td>\n",
       "      <td>55.0</td>\n",
       "      <td>150.0</td>\n",
       "    </tr>\n",
       "    <tr>\n",
       "      <th>41</th>\n",
       "      <td>1</td>\n",
       "      <td>80</td>\n",
       "      <td>178</td>\n",
       "      <td>80.0</td>\n",
       "      <td>178.0</td>\n",
       "    </tr>\n",
       "    <tr>\n",
       "      <th>67</th>\n",
       "      <td>0</td>\n",
       "      <td>64</td>\n",
       "      <td>164</td>\n",
       "      <td>62.0</td>\n",
       "      <td>161.0</td>\n",
       "    </tr>\n",
       "    <tr>\n",
       "      <th>...</th>\n",
       "      <td>...</td>\n",
       "      <td>...</td>\n",
       "      <td>...</td>\n",
       "      <td>...</td>\n",
       "      <td>...</td>\n",
       "    </tr>\n",
       "    <tr>\n",
       "      <th>70</th>\n",
       "      <td>0</td>\n",
       "      <td>62</td>\n",
       "      <td>175</td>\n",
       "      <td>61.0</td>\n",
       "      <td>171.0</td>\n",
       "    </tr>\n",
       "    <tr>\n",
       "      <th>150</th>\n",
       "      <td>0</td>\n",
       "      <td>57</td>\n",
       "      <td>168</td>\n",
       "      <td>58.0</td>\n",
       "      <td>165.0</td>\n",
       "    </tr>\n",
       "    <tr>\n",
       "      <th>134</th>\n",
       "      <td>1</td>\n",
       "      <td>83</td>\n",
       "      <td>177</td>\n",
       "      <td>84.0</td>\n",
       "      <td>175.0</td>\n",
       "    </tr>\n",
       "    <tr>\n",
       "      <th>36</th>\n",
       "      <td>0</td>\n",
       "      <td>56</td>\n",
       "      <td>166</td>\n",
       "      <td>54.0</td>\n",
       "      <td>165.0</td>\n",
       "    </tr>\n",
       "    <tr>\n",
       "      <th>115</th>\n",
       "      <td>0</td>\n",
       "      <td>62</td>\n",
       "      <td>168</td>\n",
       "      <td>62.0</td>\n",
       "      <td>163.0</td>\n",
       "    </tr>\n",
       "  </tbody>\n",
       "</table>\n",
       "<p>148 rows × 5 columns</p>\n",
       "</div>"
      ],
      "text/plain": [
       "     sex  weight  height  repwt  repht\n",
       "157    0      59     170    NaN    NaN\n",
       "136    0      64     172   62.0  168.0\n",
       "76     0      50     160   55.0  150.0\n",
       "41     1      80     178   80.0  178.0\n",
       "67     0      64     164   62.0  161.0\n",
       "..   ...     ...     ...    ...    ...\n",
       "70     0      62     175   61.0  171.0\n",
       "150    0      57     168   58.0  165.0\n",
       "134    1      83     177   84.0  175.0\n",
       "36     0      56     166   54.0  165.0\n",
       "115    0      62     168   62.0  163.0\n",
       "\n",
       "[148 rows x 5 columns]"
      ]
     },
     "execution_count": 47,
     "metadata": {},
     "output_type": "execute_result"
    }
   ],
   "source": [
    "davis_train.replace({'M': 1, 'F': 0}, inplace=True)\n",
    "davis_test.replace({'M': 1, 'F': 0}, inplace=True)\n",
    "davis_train"
   ]
  },
  {
   "cell_type": "code",
   "execution_count": 48,
   "id": "025564cb",
   "metadata": {},
   "outputs": [],
   "source": [
    "from sklearn.linear_model import LogisticRegression\n",
    "from sklearn.discriminant_analysis import QuadraticDiscriminantAnalysis"
   ]
  },
  {
   "cell_type": "code",
   "execution_count": 49,
   "id": "0e80a821",
   "metadata": {},
   "outputs": [
    {
     "data": {
      "text/plain": [
       "QuadraticDiscriminantAnalysis()"
      ]
     },
     "execution_count": 49,
     "metadata": {},
     "output_type": "execute_result"
    }
   ],
   "source": [
    "log_reg = LogisticRegression()\n",
    "qdanalysis = QuadraticDiscriminantAnalysis()\n",
    "x_train, y_train = davis_train[['height','weight']], davis_train['sex']\n",
    "log_reg.fit(x_train,y_train)\n",
    "qdanalysis.fit(x_train,y_train)"
   ]
  },
  {
   "cell_type": "code",
   "execution_count": 50,
   "id": "ecc76a98",
   "metadata": {},
   "outputs": [],
   "source": [
    "from sklearn.metrics import accuracy_score"
   ]
  },
  {
   "cell_type": "code",
   "execution_count": 51,
   "id": "20f30aac",
   "metadata": {},
   "outputs": [],
   "source": [
    "x_test, y_test = davis_test[['height','weight']], davis_test['sex']"
   ]
  },
  {
   "cell_type": "markdown",
   "id": "334fa0e7",
   "metadata": {},
   "source": [
    "Замерьте производительность на тренировочной и тестовой выборке (через Accuracy)."
   ]
  },
  {
   "cell_type": "code",
   "execution_count": 52,
   "id": "125200c0",
   "metadata": {},
   "outputs": [],
   "source": [
    "log_predicts_test = log_reg.predict(x_test)\n",
    "qda_predicts_test = qdanalysis.predict(x_test)"
   ]
  },
  {
   "cell_type": "code",
   "execution_count": 53,
   "id": "aae98454",
   "metadata": {
    "scrolled": true
   },
   "outputs": [
    {
     "data": {
      "text/plain": [
       "0.92"
      ]
     },
     "execution_count": 53,
     "metadata": {},
     "output_type": "execute_result"
    }
   ],
   "source": [
    "log_reg_acc = accuracy_score(log_predicts_test, y_test)\n",
    "log_reg_acc"
   ]
  },
  {
   "cell_type": "code",
   "execution_count": 54,
   "id": "5c2ceb1a",
   "metadata": {},
   "outputs": [
    {
     "data": {
      "text/plain": [
       "0.9"
      ]
     },
     "execution_count": 54,
     "metadata": {},
     "output_type": "execute_result"
    }
   ],
   "source": [
    "log_reg_qda = accuracy_score(qda_predicts_test, y_test)\n",
    "log_reg_qda"
   ]
  },
  {
   "cell_type": "code",
   "execution_count": 55,
   "id": "0d4aa24c",
   "metadata": {},
   "outputs": [],
   "source": [
    "log_predicts_train = log_reg.predict(x_train)\n",
    "qda_predicts_train = qdanalysis.predict(x_train)"
   ]
  },
  {
   "cell_type": "markdown",
   "id": "a4ba52b9",
   "metadata": {},
   "source": [
    "Отобразите точки из обучающей выборки на плоскости (height-weight). Покрасьте их цветами в зависимости от пола. Раскрасьте области в зависимости от пола, предсказанного обученным в п.4. классификатором."
   ]
  },
  {
   "cell_type": "code",
   "execution_count": 56,
   "id": "42f6f002",
   "metadata": {},
   "outputs": [],
   "source": [
    "x1_min, x1_max = x_train['weight'].min()-0.5, x_train['weight'].max()+0.5\n",
    "x2_min, x2_max = x_train['height'].min()-0.5, x_train['height'].max()+0.5\n"
   ]
  },
  {
   "cell_type": "code",
   "execution_count": 57,
   "id": "982ad520",
   "metadata": {},
   "outputs": [],
   "source": [
    "xx1,xx2 = np.mgrid[x1_min:x1_max:50j, x2_min:x2_max:50j]"
   ]
  },
  {
   "cell_type": "code",
   "execution_count": 58,
   "id": "d4a95fb4",
   "metadata": {},
   "outputs": [],
   "source": [
    "X_pred = np.column_stack([xx2.reshape(-1),xx1.reshape(-1) ])"
   ]
  },
  {
   "cell_type": "code",
   "execution_count": 59,
   "id": "8a98efb4",
   "metadata": {},
   "outputs": [
    {
     "name": "stderr",
     "output_type": "stream",
     "text": [
      "C:\\ProgramData\\Anaconda3\\envs\\ML\\lib\\site-packages\\sklearn\\base.py:445: UserWarning: X does not have valid feature names, but LogisticRegression was fitted with feature names\n",
      "  warnings.warn(\n"
     ]
    }
   ],
   "source": [
    "y_pred = log_reg.predict(X_pred)"
   ]
  },
  {
   "cell_type": "code",
   "execution_count": 60,
   "id": "036a9778",
   "metadata": {
    "scrolled": false
   },
   "outputs": [
    {
     "data": {
      "image/png": "[encoded data removed]",
      "text/plain": [
       "<Figure size 432x288 with 1 Axes>"
      ]
     },
     "metadata": {
      "needs_background": "light"
     },
     "output_type": "display_data"
    }
   ],
   "source": [
    "plt.pcolormesh(xx1,xx2, y_pred.reshape(xx1.shape), alpha=0.3, shading='auto')\n",
    "plt.scatter(x_train['weight'], x_train['height'], c = y_train)\n",
    "plt.show()\n"
   ]
  },
  {
   "cell_type": "markdown",
   "id": "1a05712d",
   "metadata": {},
   "source": [
    "Сделайте аналогичный график на тестовой выборке"
   ]
  },
  {
   "cell_type": "code",
   "execution_count": 61,
   "id": "fbaaca78",
   "metadata": {
    "scrolled": true
   },
   "outputs": [
    {
     "name": "stderr",
     "output_type": "stream",
     "text": [
      "C:\\ProgramData\\Anaconda3\\envs\\ML\\lib\\site-packages\\sklearn\\base.py:445: UserWarning: X does not have valid feature names, but LogisticRegression was fitted with feature names\n",
      "  warnings.warn(\n"
     ]
    }
   ],
   "source": [
    "x1_min, x1_max = x_test['weight'].min()-0.5, x_test['weight'].max()+0.5\n",
    "x2_min, x2_max = x_test['height'].min()-0.5, x_test['height'].max()+0.5\n",
    "xx1,xx2 = np.mgrid[x1_min:x1_max:50j, x2_min:x2_max:50j]\n",
    "X_pred = np.column_stack([xx2.reshape(-1),xx1.reshape(-1) ])\n",
    "y_pred = log_reg.predict(X_pred)"
   ]
  },
  {
   "cell_type": "code",
   "execution_count": 62,
   "id": "c48f6902",
   "metadata": {},
   "outputs": [
    {
     "data": {
      "image/png": "[encoded data removed]",
      "text/plain": [
       "<Figure size 432x288 with 1 Axes>"
      ]
     },
     "metadata": {
      "needs_background": "light"
     },
     "output_type": "display_data"
    }
   ],
   "source": [
    "plt.pcolormesh(xx1,xx2, y_pred.reshape(xx1.shape), alpha=0.3, shading='auto')\n",
    "plt.scatter(x_test['weight'], x_test['height'], c = y_test)\n",
    "plt.show()"
   ]
  },
  {
   "cell_type": "code",
   "execution_count": null,
   "id": "229135ab",
   "metadata": {},
   "outputs": [],
   "source": []
  }
 ],
 "metadata": {
  "kernelspec": {
   "display_name": "Python 3 (ipykernel)",
   "language": "python",
   "name": "python3"
  },
  "language_info": {
   "codemirror_mode": {
    "name": "ipython",
    "version": 3
   },
   "file_extension": ".py",
   "mimetype": "text/x-python",
   "name": "python",
   "nbconvert_exporter": "python",
   "pygments_lexer": "ipython3",
   "version": "3.9.7"
  }
 },
 "nbformat": 4,
 "nbformat_minor": 5
}
