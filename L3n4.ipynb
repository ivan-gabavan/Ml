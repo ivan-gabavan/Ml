{
 "cells": [
  {
   "cell_type": "code",
   "execution_count": 1,
   "id": "bbaab0fe",
   "metadata": {
    "execution": {
     "iopub.execute_input": "2021-12-30T00:16:38.865881Z",
     "iopub.status.busy": "2021-12-30T00:16:38.858707Z",
     "iopub.status.idle": "2021-12-30T00:16:40.062820Z",
     "shell.execute_reply": "2021-12-30T00:16:40.063239Z",
     "shell.execute_reply.started": "2021-12-30T00:10:07.994826Z"
    },
    "papermill": {
     "duration": 1.244633,
     "end_time": "2021-12-30T00:16:40.063557",
     "exception": false,
     "start_time": "2021-12-30T00:16:38.818924",
     "status": "completed"
    },
    "tags": []
   },
   "outputs": [],
   "source": [
    "import numpy as np\n",
    "import pandas as pd\n",
    "import matplotlib.pyplot as plt\n",
    "import torch"
   ]
  },
  {
   "cell_type": "code",
   "execution_count": 2,
   "id": "98bff062",
   "metadata": {
    "execution": {
     "iopub.execute_input": "2021-12-30T00:16:40.139849Z",
     "iopub.status.busy": "2021-12-30T00:16:40.139321Z",
     "iopub.status.idle": "2021-12-30T00:16:40.143018Z",
     "shell.execute_reply": "2021-12-30T00:16:40.142416Z",
     "shell.execute_reply.started": "2021-12-30T00:10:09.445441Z"
    },
    "papermill": {
     "duration": 0.041857,
     "end_time": "2021-12-30T00:16:40.143129",
     "exception": false,
     "start_time": "2021-12-30T00:16:40.101272",
     "status": "completed"
    },
    "tags": []
   },
   "outputs": [],
   "source": [
    "import pandas as pd"
   ]
  },
  {
   "cell_type": "code",
   "execution_count": 3,
   "id": "f5c8a857",
   "metadata": {
    "execution": {
     "iopub.execute_input": "2021-12-30T00:16:40.250788Z",
     "iopub.status.busy": "2021-12-30T00:16:40.250291Z",
     "iopub.status.idle": "2021-12-30T00:16:40.430570Z",
     "shell.execute_reply": "2021-12-30T00:16:40.430999Z",
     "shell.execute_reply.started": "2021-12-30T00:10:09.451424Z"
    },
    "papermill": {
     "duration": 0.231043,
     "end_time": "2021-12-30T00:16:40.431143",
     "exception": false,
     "start_time": "2021-12-30T00:16:40.200100",
     "status": "completed"
    },
    "tags": []
   },
   "outputs": [
    {
     "data": {
      "text/html": [
       "<div>\n",
       "<style scoped>\n",
       "    .dataframe tbody tr th:only-of-type {\n",
       "        vertical-align: middle;\n",
       "    }\n",
       "\n",
       "    .dataframe tbody tr th {\n",
       "        vertical-align: top;\n",
       "    }\n",
       "\n",
       "    .dataframe thead th {\n",
       "        text-align: right;\n",
       "    }\n",
       "</style>\n",
       "<table border=\"1\" class=\"dataframe\">\n",
       "  <thead>\n",
       "    <tr style=\"text-align: right;\">\n",
       "      <th></th>\n",
       "      <th>age</th>\n",
       "      <th>workclass</th>\n",
       "      <th>fnlwgt</th>\n",
       "      <th>education</th>\n",
       "      <th>educational-num</th>\n",
       "      <th>marital-status</th>\n",
       "      <th>occupation</th>\n",
       "      <th>relationship</th>\n",
       "      <th>race</th>\n",
       "      <th>gender</th>\n",
       "      <th>capital-gain</th>\n",
       "      <th>capital-loss</th>\n",
       "      <th>hours-per-week</th>\n",
       "      <th>native-country</th>\n",
       "      <th>income</th>\n",
       "    </tr>\n",
       "  </thead>\n",
       "  <tbody>\n",
       "    <tr>\n",
       "      <th>0</th>\n",
       "      <td>25</td>\n",
       "      <td>Private</td>\n",
       "      <td>226802</td>\n",
       "      <td>11th</td>\n",
       "      <td>7</td>\n",
       "      <td>Never-married</td>\n",
       "      <td>Machine-op-inspct</td>\n",
       "      <td>Own-child</td>\n",
       "      <td>Black</td>\n",
       "      <td>Male</td>\n",
       "      <td>0</td>\n",
       "      <td>0</td>\n",
       "      <td>40</td>\n",
       "      <td>United-States</td>\n",
       "      <td>&lt;=50K</td>\n",
       "    </tr>\n",
       "    <tr>\n",
       "      <th>1</th>\n",
       "      <td>38</td>\n",
       "      <td>Private</td>\n",
       "      <td>89814</td>\n",
       "      <td>HS-grad</td>\n",
       "      <td>9</td>\n",
       "      <td>Married-civ-spouse</td>\n",
       "      <td>Farming-fishing</td>\n",
       "      <td>Husband</td>\n",
       "      <td>White</td>\n",
       "      <td>Male</td>\n",
       "      <td>0</td>\n",
       "      <td>0</td>\n",
       "      <td>50</td>\n",
       "      <td>United-States</td>\n",
       "      <td>&lt;=50K</td>\n",
       "    </tr>\n",
       "    <tr>\n",
       "      <th>2</th>\n",
       "      <td>28</td>\n",
       "      <td>Local-gov</td>\n",
       "      <td>336951</td>\n",
       "      <td>Assoc-acdm</td>\n",
       "      <td>12</td>\n",
       "      <td>Married-civ-spouse</td>\n",
       "      <td>Protective-serv</td>\n",
       "      <td>Husband</td>\n",
       "      <td>White</td>\n",
       "      <td>Male</td>\n",
       "      <td>0</td>\n",
       "      <td>0</td>\n",
       "      <td>40</td>\n",
       "      <td>United-States</td>\n",
       "      <td>&gt;50K</td>\n",
       "    </tr>\n",
       "    <tr>\n",
       "      <th>3</th>\n",
       "      <td>44</td>\n",
       "      <td>Private</td>\n",
       "      <td>160323</td>\n",
       "      <td>Some-college</td>\n",
       "      <td>10</td>\n",
       "      <td>Married-civ-spouse</td>\n",
       "      <td>Machine-op-inspct</td>\n",
       "      <td>Husband</td>\n",
       "      <td>Black</td>\n",
       "      <td>Male</td>\n",
       "      <td>7688</td>\n",
       "      <td>0</td>\n",
       "      <td>40</td>\n",
       "      <td>United-States</td>\n",
       "      <td>&gt;50K</td>\n",
       "    </tr>\n",
       "    <tr>\n",
       "      <th>4</th>\n",
       "      <td>18</td>\n",
       "      <td>?</td>\n",
       "      <td>103497</td>\n",
       "      <td>Some-college</td>\n",
       "      <td>10</td>\n",
       "      <td>Never-married</td>\n",
       "      <td>?</td>\n",
       "      <td>Own-child</td>\n",
       "      <td>White</td>\n",
       "      <td>Female</td>\n",
       "      <td>0</td>\n",
       "      <td>0</td>\n",
       "      <td>30</td>\n",
       "      <td>United-States</td>\n",
       "      <td>&lt;=50K</td>\n",
       "    </tr>\n",
       "    <tr>\n",
       "      <th>...</th>\n",
       "      <td>...</td>\n",
       "      <td>...</td>\n",
       "      <td>...</td>\n",
       "      <td>...</td>\n",
       "      <td>...</td>\n",
       "      <td>...</td>\n",
       "      <td>...</td>\n",
       "      <td>...</td>\n",
       "      <td>...</td>\n",
       "      <td>...</td>\n",
       "      <td>...</td>\n",
       "      <td>...</td>\n",
       "      <td>...</td>\n",
       "      <td>...</td>\n",
       "      <td>...</td>\n",
       "    </tr>\n",
       "    <tr>\n",
       "      <th>48837</th>\n",
       "      <td>27</td>\n",
       "      <td>Private</td>\n",
       "      <td>257302</td>\n",
       "      <td>Assoc-acdm</td>\n",
       "      <td>12</td>\n",
       "      <td>Married-civ-spouse</td>\n",
       "      <td>Tech-support</td>\n",
       "      <td>Wife</td>\n",
       "      <td>White</td>\n",
       "      <td>Female</td>\n",
       "      <td>0</td>\n",
       "      <td>0</td>\n",
       "      <td>38</td>\n",
       "      <td>United-States</td>\n",
       "      <td>&lt;=50K</td>\n",
       "    </tr>\n",
       "    <tr>\n",
       "      <th>48838</th>\n",
       "      <td>40</td>\n",
       "      <td>Private</td>\n",
       "      <td>154374</td>\n",
       "      <td>HS-grad</td>\n",
       "      <td>9</td>\n",
       "      <td>Married-civ-spouse</td>\n",
       "      <td>Machine-op-inspct</td>\n",
       "      <td>Husband</td>\n",
       "      <td>White</td>\n",
       "      <td>Male</td>\n",
       "      <td>0</td>\n",
       "      <td>0</td>\n",
       "      <td>40</td>\n",
       "      <td>United-States</td>\n",
       "      <td>&gt;50K</td>\n",
       "    </tr>\n",
       "    <tr>\n",
       "      <th>48839</th>\n",
       "      <td>58</td>\n",
       "      <td>Private</td>\n",
       "      <td>151910</td>\n",
       "      <td>HS-grad</td>\n",
       "      <td>9</td>\n",
       "      <td>Widowed</td>\n",
       "      <td>Adm-clerical</td>\n",
       "      <td>Unmarried</td>\n",
       "      <td>White</td>\n",
       "      <td>Female</td>\n",
       "      <td>0</td>\n",
       "      <td>0</td>\n",
       "      <td>40</td>\n",
       "      <td>United-States</td>\n",
       "      <td>&lt;=50K</td>\n",
       "    </tr>\n",
       "    <tr>\n",
       "      <th>48840</th>\n",
       "      <td>22</td>\n",
       "      <td>Private</td>\n",
       "      <td>201490</td>\n",
       "      <td>HS-grad</td>\n",
       "      <td>9</td>\n",
       "      <td>Never-married</td>\n",
       "      <td>Adm-clerical</td>\n",
       "      <td>Own-child</td>\n",
       "      <td>White</td>\n",
       "      <td>Male</td>\n",
       "      <td>0</td>\n",
       "      <td>0</td>\n",
       "      <td>20</td>\n",
       "      <td>United-States</td>\n",
       "      <td>&lt;=50K</td>\n",
       "    </tr>\n",
       "    <tr>\n",
       "      <th>48841</th>\n",
       "      <td>52</td>\n",
       "      <td>Self-emp-inc</td>\n",
       "      <td>287927</td>\n",
       "      <td>HS-grad</td>\n",
       "      <td>9</td>\n",
       "      <td>Married-civ-spouse</td>\n",
       "      <td>Exec-managerial</td>\n",
       "      <td>Wife</td>\n",
       "      <td>White</td>\n",
       "      <td>Female</td>\n",
       "      <td>15024</td>\n",
       "      <td>0</td>\n",
       "      <td>40</td>\n",
       "      <td>United-States</td>\n",
       "      <td>&gt;50K</td>\n",
       "    </tr>\n",
       "  </tbody>\n",
       "</table>\n",
       "<p>48842 rows × 15 columns</p>\n",
       "</div>"
      ],
      "text/plain": [
       "       age     workclass  fnlwgt     education  educational-num  \\\n",
       "0       25       Private  226802          11th                7   \n",
       "1       38       Private   89814       HS-grad                9   \n",
       "2       28     Local-gov  336951    Assoc-acdm               12   \n",
       "3       44       Private  160323  Some-college               10   \n",
       "4       18             ?  103497  Some-college               10   \n",
       "...    ...           ...     ...           ...              ...   \n",
       "48837   27       Private  257302    Assoc-acdm               12   \n",
       "48838   40       Private  154374       HS-grad                9   \n",
       "48839   58       Private  151910       HS-grad                9   \n",
       "48840   22       Private  201490       HS-grad                9   \n",
       "48841   52  Self-emp-inc  287927       HS-grad                9   \n",
       "\n",
       "           marital-status         occupation relationship   race  gender  \\\n",
       "0           Never-married  Machine-op-inspct    Own-child  Black    Male   \n",
       "1      Married-civ-spouse    Farming-fishing      Husband  White    Male   \n",
       "2      Married-civ-spouse    Protective-serv      Husband  White    Male   \n",
       "3      Married-civ-spouse  Machine-op-inspct      Husband  Black    Male   \n",
       "4           Never-married                  ?    Own-child  White  Female   \n",
       "...                   ...                ...          ...    ...     ...   \n",
       "48837  Married-civ-spouse       Tech-support         Wife  White  Female   \n",
       "48838  Married-civ-spouse  Machine-op-inspct      Husband  White    Male   \n",
       "48839             Widowed       Adm-clerical    Unmarried  White  Female   \n",
       "48840       Never-married       Adm-clerical    Own-child  White    Male   \n",
       "48841  Married-civ-spouse    Exec-managerial         Wife  White  Female   \n",
       "\n",
       "       capital-gain  capital-loss  hours-per-week native-country income  \n",
       "0                 0             0              40  United-States  <=50K  \n",
       "1                 0             0              50  United-States  <=50K  \n",
       "2                 0             0              40  United-States   >50K  \n",
       "3              7688             0              40  United-States   >50K  \n",
       "4                 0             0              30  United-States  <=50K  \n",
       "...             ...           ...             ...            ...    ...  \n",
       "48837             0             0              38  United-States  <=50K  \n",
       "48838             0             0              40  United-States   >50K  \n",
       "48839             0             0              40  United-States  <=50K  \n",
       "48840             0             0              20  United-States  <=50K  \n",
       "48841         15024             0              40  United-States   >50K  \n",
       "\n",
       "[48842 rows x 15 columns]"
      ]
     },
     "execution_count": 3,
     "metadata": {},
     "output_type": "execute_result"
    }
   ],
   "source": [
    "adult_df = pd.read_csv('../input/adult-income-dataset/adult.csv')\n",
    "adult_df "
   ]
  },
  {
   "cell_type": "markdown",
   "id": "acb61f46",
   "metadata": {
    "papermill": {
     "duration": 0.056441,
     "end_time": "2021-12-30T00:16:40.529812",
     "exception": false,
     "start_time": "2021-12-30T00:16:40.473371",
     "status": "completed"
    },
    "tags": []
   },
   "source": [
    "Начинаю с исследования данных"
   ]
  },
  {
   "cell_type": "code",
   "execution_count": 4,
   "id": "9f96328e",
   "metadata": {
    "execution": {
     "iopub.execute_input": "2021-12-30T00:16:40.639182Z",
     "iopub.status.busy": "2021-12-30T00:16:40.638407Z",
     "iopub.status.idle": "2021-12-30T00:16:40.641800Z",
     "shell.execute_reply": "2021-12-30T00:16:40.641393Z",
     "shell.execute_reply.started": "2021-12-30T00:10:09.638496Z"
    },
    "papermill": {
     "duration": 0.055986,
     "end_time": "2021-12-30T00:16:40.641909",
     "exception": false,
     "start_time": "2021-12-30T00:16:40.585923",
     "status": "completed"
    },
    "scrolled": true,
    "tags": []
   },
   "outputs": [
    {
     "data": {
      "text/plain": [
       "<=50K    37155\n",
       ">50K     11687\n",
       "Name: income, dtype: int64"
      ]
     },
     "execution_count": 4,
     "metadata": {},
     "output_type": "execute_result"
    }
   ],
   "source": [
    "adult_df['income'].value_counts()"
   ]
  },
  {
   "cell_type": "markdown",
   "id": "f37155fb",
   "metadata": {
    "papermill": {
     "duration": 0.034868,
     "end_time": "2021-12-30T00:16:40.711725",
     "exception": false,
     "start_time": "2021-12-30T00:16:40.676857",
     "status": "completed"
    },
    "tags": []
   },
   "source": [
    "Сразу заменю числами"
   ]
  },
  {
   "cell_type": "code",
   "execution_count": 5,
   "id": "8d2ad44a",
   "metadata": {
    "execution": {
     "iopub.execute_input": "2021-12-30T00:16:40.813745Z",
     "iopub.status.busy": "2021-12-30T00:16:40.786029Z",
     "iopub.status.idle": "2021-12-30T00:16:40.826684Z",
     "shell.execute_reply": "2021-12-30T00:16:40.827218Z",
     "shell.execute_reply.started": "2021-12-30T00:10:09.656149Z"
    },
    "papermill": {
     "duration": 0.080739,
     "end_time": "2021-12-30T00:16:40.827420",
     "exception": false,
     "start_time": "2021-12-30T00:16:40.746681",
     "status": "completed"
    },
    "tags": []
   },
   "outputs": [],
   "source": [
    "adult_df['income'] = adult_df['income'].apply(lambda inc: 1 if inc == \">50K\" else 0)"
   ]
  },
  {
   "cell_type": "code",
   "execution_count": 6,
   "id": "a5a5ecfc",
   "metadata": {
    "execution": {
     "iopub.execute_input": "2021-12-30T00:16:40.941577Z",
     "iopub.status.busy": "2021-12-30T00:16:40.940920Z",
     "iopub.status.idle": "2021-12-30T00:16:40.943477Z",
     "shell.execute_reply": "2021-12-30T00:16:40.943973Z",
     "shell.execute_reply.started": "2021-12-30T00:10:09.695887Z"
    },
    "papermill": {
     "duration": 0.050354,
     "end_time": "2021-12-30T00:16:40.944093",
     "exception": false,
     "start_time": "2021-12-30T00:16:40.893739",
     "status": "completed"
    },
    "tags": []
   },
   "outputs": [
    {
     "data": {
      "text/plain": [
       "36    1348\n",
       "35    1337\n",
       "33    1335\n",
       "23    1329\n",
       "31    1325\n",
       "      ... \n",
       "88       6\n",
       "85       5\n",
       "87       3\n",
       "89       2\n",
       "86       1\n",
       "Name: age, Length: 74, dtype: int64"
      ]
     },
     "execution_count": 6,
     "metadata": {},
     "output_type": "execute_result"
    }
   ],
   "source": [
    "adult_df['age'].value_counts()"
   ]
  },
  {
   "cell_type": "code",
   "execution_count": 7,
   "id": "efa12af3",
   "metadata": {
    "execution": {
     "iopub.execute_input": "2021-12-30T00:16:41.018917Z",
     "iopub.status.busy": "2021-12-30T00:16:41.018354Z",
     "iopub.status.idle": "2021-12-30T00:16:41.274424Z",
     "shell.execute_reply": "2021-12-30T00:16:41.273742Z",
     "shell.execute_reply.started": "2021-12-30T00:10:09.707526Z"
    },
    "papermill": {
     "duration": 0.295361,
     "end_time": "2021-12-30T00:16:41.274554",
     "exception": false,
     "start_time": "2021-12-30T00:16:40.979193",
     "status": "completed"
    },
    "tags": []
   },
   "outputs": [
    {
     "data": {
      "text/plain": [
       "<AxesSubplot:>"
      ]
     },
     "execution_count": 7,
     "metadata": {},
     "output_type": "execute_result"
    },
    {
     "data": {
      "image/png": "[encoded data removed]",
      "text/plain": [
       "<Figure size 432x288 with 1 Axes>"
      ]
     },
     "metadata": {
      "needs_background": "light"
     },
     "output_type": "display_data"
    }
   ],
   "source": [
    "adult_df.boxplot(column=['age'])"
   ]
  },
  {
   "cell_type": "markdown",
   "id": "ec1aaaa5",
   "metadata": {
    "papermill": {
     "duration": 0.0361,
     "end_time": "2021-12-30T00:16:41.347859",
     "exception": false,
     "start_time": "2021-12-30T00:16:41.311759",
     "status": "completed"
    },
    "tags": []
   },
   "source": [
    "Приметил выбивающиеся данные у возраста. В тренеровочной выборке попробую их удалить и посмтореть как скажется на результате"
   ]
  },
  {
   "cell_type": "code",
   "execution_count": 8,
   "id": "935d0344",
   "metadata": {
    "execution": {
     "iopub.execute_input": "2021-12-30T00:16:41.430685Z",
     "iopub.status.busy": "2021-12-30T00:16:41.430003Z",
     "iopub.status.idle": "2021-12-30T00:16:41.432677Z",
     "shell.execute_reply": "2021-12-30T00:16:41.433076Z",
     "shell.execute_reply.started": "2021-12-30T00:10:09.986427Z"
    },
    "papermill": {
     "duration": 0.049143,
     "end_time": "2021-12-30T00:16:41.433196",
     "exception": false,
     "start_time": "2021-12-30T00:16:41.384053",
     "status": "completed"
    },
    "tags": []
   },
   "outputs": [
    {
     "data": {
      "text/plain": [
       "Private             33906\n",
       "Self-emp-not-inc     3862\n",
       "Local-gov            3136\n",
       "?                    2799\n",
       "State-gov            1981\n",
       "Self-emp-inc         1695\n",
       "Federal-gov          1432\n",
       "Without-pay            21\n",
       "Never-worked           10\n",
       "Name: workclass, dtype: int64"
      ]
     },
     "execution_count": 8,
     "metadata": {},
     "output_type": "execute_result"
    }
   ],
   "source": [
    "adult_df['workclass'].value_counts()"
   ]
  },
  {
   "cell_type": "markdown",
   "id": "020c124e",
   "metadata": {
    "papermill": {
     "duration": 0.036155,
     "end_time": "2021-12-30T00:16:41.505776",
     "exception": false,
     "start_time": "2021-12-30T00:16:41.469621",
     "status": "completed"
    },
    "tags": []
   },
   "source": [
    "Две последние категории очень немногочислены, отброшу"
   ]
  },
  {
   "cell_type": "code",
   "execution_count": 9,
   "id": "21b7cfec",
   "metadata": {
    "execution": {
     "iopub.execute_input": "2021-12-30T00:16:41.588877Z",
     "iopub.status.busy": "2021-12-30T00:16:41.588158Z",
     "iopub.status.idle": "2021-12-30T00:16:41.622242Z",
     "shell.execute_reply": "2021-12-30T00:16:41.622652Z",
     "shell.execute_reply.started": "2021-12-30T00:10:10.001760Z"
    },
    "papermill": {
     "duration": 0.080288,
     "end_time": "2021-12-30T00:16:41.622775",
     "exception": false,
     "start_time": "2021-12-30T00:16:41.542487",
     "status": "completed"
    },
    "tags": []
   },
   "outputs": [],
   "source": [
    "adult_df.loc[adult_df['workclass'] == \"Without-pay\"] = \"?\"\n",
    "adult_df.loc[adult_df['workclass'] == \"Never-worked\"] = \"?\""
   ]
  },
  {
   "cell_type": "code",
   "execution_count": 10,
   "id": "55a927b3",
   "metadata": {
    "execution": {
     "iopub.execute_input": "2021-12-30T00:16:41.711980Z",
     "iopub.status.busy": "2021-12-30T00:16:41.711493Z",
     "iopub.status.idle": "2021-12-30T00:16:41.720321Z",
     "shell.execute_reply": "2021-12-30T00:16:41.719902Z",
     "shell.execute_reply.started": "2021-12-30T00:10:10.054562Z"
    },
    "papermill": {
     "duration": 0.061418,
     "end_time": "2021-12-30T00:16:41.720430",
     "exception": false,
     "start_time": "2021-12-30T00:16:41.659012",
     "status": "completed"
    },
    "tags": []
   },
   "outputs": [
    {
     "data": {
      "text/plain": [
       "?         31\n",
       "203488    21\n",
       "120277    19\n",
       "190290    19\n",
       "125892    18\n",
       "          ..\n",
       "188488     1\n",
       "285290     1\n",
       "293579     1\n",
       "114874     1\n",
       "257302     1\n",
       "Name: fnlwgt, Length: 28507, dtype: int64"
      ]
     },
     "execution_count": 10,
     "metadata": {},
     "output_type": "execute_result"
    }
   ],
   "source": [
    "adult_df['fnlwgt'].value_counts()"
   ]
  },
  {
   "cell_type": "markdown",
   "id": "35fa7f36",
   "metadata": {
    "papermill": {
     "duration": 0.036742,
     "end_time": "2021-12-30T00:16:41.793816",
     "exception": false,
     "start_time": "2021-12-30T00:16:41.757074",
     "status": "completed"
    },
    "tags": []
   },
   "source": [
    "Долго думал что это. Загуглил. Спросил в телеге. Посчитал. Возможно какие-нибудь коды школ и тд. В любом случае, если только не дейсвительно численность определённого типа, то объединяет слишком маленькие группы людей, можно отбросить"
   ]
  },
  {
   "cell_type": "code",
   "execution_count": 11,
   "id": "599ac8b7",
   "metadata": {
    "execution": {
     "iopub.execute_input": "2021-12-30T00:16:41.880103Z",
     "iopub.status.busy": "2021-12-30T00:16:41.879321Z",
     "iopub.status.idle": "2021-12-30T00:16:41.895754Z",
     "shell.execute_reply": "2021-12-30T00:16:41.895321Z",
     "shell.execute_reply.started": "2021-12-30T00:10:10.081320Z"
    },
    "papermill": {
     "duration": 0.064816,
     "end_time": "2021-12-30T00:16:41.895870",
     "exception": false,
     "start_time": "2021-12-30T00:16:41.831054",
     "status": "completed"
    },
    "tags": []
   },
   "outputs": [],
   "source": [
    "adult_df = adult_df.drop('fnlwgt', axis = 1)"
   ]
  },
  {
   "cell_type": "code",
   "execution_count": 12,
   "id": "27262ec4",
   "metadata": {
    "execution": {
     "iopub.execute_input": "2021-12-30T00:16:41.972846Z",
     "iopub.status.busy": "2021-12-30T00:16:41.972036Z",
     "iopub.status.idle": "2021-12-30T00:16:41.983929Z",
     "shell.execute_reply": "2021-12-30T00:16:41.983533Z",
     "shell.execute_reply.started": "2021-12-30T00:10:10.112029Z"
    },
    "papermill": {
     "duration": 0.051063,
     "end_time": "2021-12-30T00:16:41.984035",
     "exception": false,
     "start_time": "2021-12-30T00:16:41.932972",
     "status": "completed"
    },
    "scrolled": true,
    "tags": []
   },
   "outputs": [
    {
     "data": {
      "text/plain": [
       "HS-grad         15768\n",
       "Some-college    10873\n",
       "Bachelors        8025\n",
       "Masters          2657\n",
       "Assoc-voc        2061\n",
       "11th             1809\n",
       "Assoc-acdm       1599\n",
       "10th             1387\n",
       "7th-8th           952\n",
       "Prof-school       834\n",
       "9th               756\n",
       "12th              657\n",
       "Doctorate         594\n",
       "5th-6th           509\n",
       "1st-4th           247\n",
       "Preschool          83\n",
       "?                  31\n",
       "Name: education, dtype: int64"
      ]
     },
     "execution_count": 12,
     "metadata": {},
     "output_type": "execute_result"
    }
   ],
   "source": [
    "adult_df['education'].value_counts()"
   ]
  },
  {
   "cell_type": "code",
   "execution_count": 13,
   "id": "8fbf831d",
   "metadata": {
    "execution": {
     "iopub.execute_input": "2021-12-30T00:16:42.069159Z",
     "iopub.status.busy": "2021-12-30T00:16:42.067062Z",
     "iopub.status.idle": "2021-12-30T00:16:42.072231Z",
     "shell.execute_reply": "2021-12-30T00:16:42.071812Z",
     "shell.execute_reply.started": "2021-12-30T00:10:10.127901Z"
    },
    "papermill": {
     "duration": 0.051314,
     "end_time": "2021-12-30T00:16:42.072361",
     "exception": false,
     "start_time": "2021-12-30T00:16:42.021047",
     "status": "completed"
    },
    "scrolled": true,
    "tags": []
   },
   "outputs": [
    {
     "data": {
      "text/plain": [
       "9     15768\n",
       "10    10873\n",
       "13     8025\n",
       "14     2657\n",
       "11     2061\n",
       "7      1809\n",
       "12     1599\n",
       "6      1387\n",
       "4       952\n",
       "15      834\n",
       "5       756\n",
       "8       657\n",
       "16      594\n",
       "3       509\n",
       "2       247\n",
       "1        83\n",
       "?        31\n",
       "Name: educational-num, dtype: int64"
      ]
     },
     "execution_count": 13,
     "metadata": {},
     "output_type": "execute_result"
    }
   ],
   "source": [
    "adult_df['educational-num'].value_counts()"
   ]
  },
  {
   "cell_type": "code",
   "execution_count": 14,
   "id": "c7bc4d46",
   "metadata": {
    "execution": {
     "iopub.execute_input": "2021-12-30T00:16:42.153445Z",
     "iopub.status.busy": "2021-12-30T00:16:42.149448Z",
     "iopub.status.idle": "2021-12-30T00:16:42.173543Z",
     "shell.execute_reply": "2021-12-30T00:16:42.174183Z",
     "shell.execute_reply.started": "2021-12-30T00:10:10.143658Z"
    },
    "papermill": {
     "duration": 0.064724,
     "end_time": "2021-12-30T00:16:42.174393",
     "exception": false,
     "start_time": "2021-12-30T00:16:42.109669",
     "status": "completed"
    },
    "scrolled": true,
    "tags": []
   },
   "outputs": [
    {
     "data": {
      "text/plain": [
       "Married-civ-spouse       22365\n",
       "Never-married            16104\n",
       "Divorced                  6632\n",
       "Separated                 1530\n",
       "Widowed                   1517\n",
       "Married-spouse-absent      626\n",
       "Married-AF-spouse           37\n",
       "?                           31\n",
       "Name: marital-status, dtype: int64"
      ]
     },
     "execution_count": 14,
     "metadata": {},
     "output_type": "execute_result"
    }
   ],
   "source": [
    "adult_df['marital-status'].value_counts()"
   ]
  },
  {
   "cell_type": "code",
   "execution_count": 15,
   "id": "57257933",
   "metadata": {
    "execution": {
     "iopub.execute_input": "2021-12-30T00:16:42.323005Z",
     "iopub.status.busy": "2021-12-30T00:16:42.322227Z",
     "iopub.status.idle": "2021-12-30T00:16:42.331385Z",
     "shell.execute_reply": "2021-12-30T00:16:42.332516Z",
     "shell.execute_reply.started": "2021-12-30T00:10:10.159320Z"
    },
    "papermill": {
     "duration": 0.08435,
     "end_time": "2021-12-30T00:16:42.332794",
     "exception": false,
     "start_time": "2021-12-30T00:16:42.248444",
     "status": "completed"
    },
    "scrolled": true,
    "tags": []
   },
   "outputs": [
    {
     "data": {
      "text/plain": [
       "Prof-specialty       6172\n",
       "Craft-repair         6111\n",
       "Exec-managerial      6085\n",
       "Adm-clerical         5608\n",
       "Sales                5503\n",
       "Other-service        4921\n",
       "Machine-op-inspct    3020\n",
       "?                    2830\n",
       "Transport-moving     2354\n",
       "Handlers-cleaners    2070\n",
       "Farming-fishing      1482\n",
       "Tech-support         1446\n",
       "Protective-serv       983\n",
       "Priv-house-serv       242\n",
       "Armed-Forces           15\n",
       "Name: occupation, dtype: int64"
      ]
     },
     "execution_count": 15,
     "metadata": {},
     "output_type": "execute_result"
    }
   ],
   "source": [
    "adult_df['occupation'].value_counts()"
   ]
  },
  {
   "cell_type": "markdown",
   "id": "47d71ba2",
   "metadata": {
    "papermill": {
     "duration": 0.063107,
     "end_time": "2021-12-30T00:16:42.459735",
     "exception": false,
     "start_time": "2021-12-30T00:16:42.396628",
     "status": "completed"
    },
    "tags": []
   },
   "source": [
    "Тут последние сделаю \"?\""
   ]
  },
  {
   "cell_type": "code",
   "execution_count": 16,
   "id": "38a11563",
   "metadata": {
    "execution": {
     "iopub.execute_input": "2021-12-30T00:16:42.598297Z",
     "iopub.status.busy": "2021-12-30T00:16:42.597507Z",
     "iopub.status.idle": "2021-12-30T00:16:42.602073Z",
     "shell.execute_reply": "2021-12-30T00:16:42.602994Z",
     "shell.execute_reply.started": "2021-12-30T00:10:10.174947Z"
    },
    "papermill": {
     "duration": 0.080884,
     "end_time": "2021-12-30T00:16:42.603165",
     "exception": false,
     "start_time": "2021-12-30T00:16:42.522281",
     "status": "completed"
    },
    "tags": []
   },
   "outputs": [],
   "source": [
    "adult_df.loc[adult_df['occupation'] == \"Armed-Forces\"] = \"?\""
   ]
  },
  {
   "cell_type": "code",
   "execution_count": 17,
   "id": "6b62815f",
   "metadata": {
    "execution": {
     "iopub.execute_input": "2021-12-30T00:16:42.743088Z",
     "iopub.status.busy": "2021-12-30T00:16:42.733155Z",
     "iopub.status.idle": "2021-12-30T00:16:42.746026Z",
     "shell.execute_reply": "2021-12-30T00:16:42.746591Z",
     "shell.execute_reply.started": "2021-12-30T00:10:10.188947Z"
    },
    "papermill": {
     "duration": 0.081326,
     "end_time": "2021-12-30T00:16:42.746726",
     "exception": false,
     "start_time": "2021-12-30T00:16:42.665400",
     "status": "completed"
    },
    "tags": []
   },
   "outputs": [
    {
     "data": {
      "text/plain": [
       "Husband           19702\n",
       "Not-in-family     12577\n",
       "Own-child          7564\n",
       "Unmarried          5123\n",
       "Wife               2327\n",
       "Other-relative     1503\n",
       "?                    46\n",
       "Name: relationship, dtype: int64"
      ]
     },
     "execution_count": 17,
     "metadata": {},
     "output_type": "execute_result"
    }
   ],
   "source": [
    "adult_df['relationship'].value_counts()"
   ]
  },
  {
   "cell_type": "code",
   "execution_count": 18,
   "id": "74771246",
   "metadata": {
    "execution": {
     "iopub.execute_input": "2021-12-30T00:16:42.834865Z",
     "iopub.status.busy": "2021-12-30T00:16:42.834087Z",
     "iopub.status.idle": "2021-12-30T00:16:42.836779Z",
     "shell.execute_reply": "2021-12-30T00:16:42.837171Z",
     "shell.execute_reply.started": "2021-12-30T00:10:10.206763Z"
    },
    "papermill": {
     "duration": 0.051501,
     "end_time": "2021-12-30T00:16:42.837300",
     "exception": false,
     "start_time": "2021-12-30T00:16:42.785799",
     "status": "completed"
    },
    "tags": []
   },
   "outputs": [
    {
     "data": {
      "text/plain": [
       "White                 41723\n",
       "Black                  4680\n",
       "Asian-Pac-Islander     1518\n",
       "Amer-Indian-Eskimo      469\n",
       "Other                   406\n",
       "?                        46\n",
       "Name: race, dtype: int64"
      ]
     },
     "execution_count": 18,
     "metadata": {},
     "output_type": "execute_result"
    }
   ],
   "source": [
    "adult_df['race'].value_counts()"
   ]
  },
  {
   "cell_type": "code",
   "execution_count": 19,
   "id": "f18eac5c",
   "metadata": {
    "execution": {
     "iopub.execute_input": "2021-12-30T00:16:42.916862Z",
     "iopub.status.busy": "2021-12-30T00:16:42.916092Z",
     "iopub.status.idle": "2021-12-30T00:16:42.927058Z",
     "shell.execute_reply": "2021-12-30T00:16:42.926672Z",
     "shell.execute_reply.started": "2021-12-30T00:10:10.223170Z"
    },
    "papermill": {
     "duration": 0.051331,
     "end_time": "2021-12-30T00:16:42.927158",
     "exception": false,
     "start_time": "2021-12-30T00:16:42.875827",
     "status": "completed"
    },
    "tags": []
   },
   "outputs": [
    {
     "data": {
      "text/plain": [
       "Male      32614\n",
       "Female    16182\n",
       "?            46\n",
       "Name: gender, dtype: int64"
      ]
     },
     "execution_count": 19,
     "metadata": {},
     "output_type": "execute_result"
    }
   ],
   "source": [
    "adult_df['gender'].value_counts()"
   ]
  },
  {
   "cell_type": "code",
   "execution_count": 20,
   "id": "9dbed3c2",
   "metadata": {
    "execution": {
     "iopub.execute_input": "2021-12-30T00:16:43.015743Z",
     "iopub.status.busy": "2021-12-30T00:16:43.014005Z",
     "iopub.status.idle": "2021-12-30T00:16:43.018424Z",
     "shell.execute_reply": "2021-12-30T00:16:43.018865Z",
     "shell.execute_reply.started": "2021-12-30T00:10:10.238693Z"
    },
    "papermill": {
     "duration": 0.052574,
     "end_time": "2021-12-30T00:16:43.018977",
     "exception": false,
     "start_time": "2021-12-30T00:16:42.966403",
     "status": "completed"
    },
    "tags": []
   },
   "outputs": [
    {
     "data": {
      "text/plain": [
       "0        44764\n",
       "15024      513\n",
       "7688       410\n",
       "7298       363\n",
       "99999      244\n",
       "         ...  \n",
       "1111         1\n",
       "7262         1\n",
       "22040        1\n",
       "1639         1\n",
       "2387         1\n",
       "Name: capital-gain, Length: 124, dtype: int64"
      ]
     },
     "execution_count": 20,
     "metadata": {},
     "output_type": "execute_result"
    }
   ],
   "source": [
    "adult_df['capital-gain'].value_counts()"
   ]
  },
  {
   "cell_type": "code",
   "execution_count": 21,
   "id": "ed638518",
   "metadata": {
    "execution": {
     "iopub.execute_input": "2021-12-30T00:16:43.113180Z",
     "iopub.status.busy": "2021-12-30T00:16:43.112355Z",
     "iopub.status.idle": "2021-12-30T00:16:43.334817Z",
     "shell.execute_reply": "2021-12-30T00:16:43.335701Z",
     "shell.execute_reply.started": "2021-12-30T00:10:10.255299Z"
    },
    "papermill": {
     "duration": 0.277816,
     "end_time": "2021-12-30T00:16:43.335963",
     "exception": false,
     "start_time": "2021-12-30T00:16:43.058147",
     "status": "completed"
    },
    "scrolled": true,
    "tags": []
   },
   "outputs": [
    {
     "data": {
      "text/plain": [
       "<AxesSubplot:>"
      ]
     },
     "execution_count": 21,
     "metadata": {},
     "output_type": "execute_result"
    },
    {
     "data": {
      "image/png": "[encoded data removed]",
      "text/plain": [
       "<Figure size 432x288 with 1 Axes>"
      ]
     },
     "metadata": {
      "needs_background": "light"
     },
     "output_type": "display_data"
    }
   ],
   "source": [
    "adult_df.loc[adult_df['capital-gain'] == '?'] = 0\n",
    "adult_df['capital-gain'] = adult_df['capital-gain'].astype(int)\n",
    "adult_df.boxplot(column=['capital-gain'])"
   ]
  },
  {
   "cell_type": "markdown",
   "id": "4c5f97a5",
   "metadata": {
    "papermill": {
     "duration": 0.039764,
     "end_time": "2021-12-30T00:16:43.417301",
     "exception": false,
     "start_time": "2021-12-30T00:16:43.377537",
     "status": "completed"
    },
    "tags": []
   },
   "source": [
    "У большинства людей капитала нет, поэтому если что-то и отсекать, то ориентируясь только на тех, у кого капитал есть. \n",
    "\n",
    "\n",
    "Вообще, обращаясь к предметной области, есть такое понятие как правило 4%. То есть большинство людей с капиталом отщипывают от него ежегодно по 4%. Даже во влажениях без особого риска в среднем капитал вырастает в год на ~15%. То есть если прирост капитала больше 20-40К вообще нет смысла что-то угадывать моделями. \n",
    "\n",
    "\n",
    "![jupyter](https://avatars.mds.yandex.net/get-zen_doc/1860621/pub_5d69f610028d6800ac249378_5d69f71303bdd400ac889b0c/scale_600)"
   ]
  },
  {
   "cell_type": "code",
   "execution_count": 22,
   "id": "3e2c6333",
   "metadata": {
    "execution": {
     "iopub.execute_input": "2021-12-30T00:16:43.508536Z",
     "iopub.status.busy": "2021-12-30T00:16:43.504091Z",
     "iopub.status.idle": "2021-12-30T00:16:43.511235Z",
     "shell.execute_reply": "2021-12-30T00:16:43.511705Z",
     "shell.execute_reply.started": "2021-12-30T00:10:10.501993Z"
    },
    "papermill": {
     "duration": 0.054789,
     "end_time": "2021-12-30T00:16:43.511834",
     "exception": false,
     "start_time": "2021-12-30T00:16:43.457045",
     "status": "completed"
    },
    "scrolled": true,
    "tags": []
   },
   "outputs": [
    {
     "data": {
      "text/plain": [
       "0       46562\n",
       "1902      304\n",
       "1977      253\n",
       "1887      231\n",
       "2415       72\n",
       "        ...  \n",
       "2465        1\n",
       "2080        1\n",
       "155         1\n",
       "1911        1\n",
       "2201        1\n",
       "Name: capital-loss, Length: 99, dtype: int64"
      ]
     },
     "execution_count": 22,
     "metadata": {},
     "output_type": "execute_result"
    }
   ],
   "source": [
    "adult_df['capital-loss'].value_counts()"
   ]
  },
  {
   "cell_type": "code",
   "execution_count": 23,
   "id": "46288458",
   "metadata": {
    "execution": {
     "iopub.execute_input": "2021-12-30T00:16:43.610244Z",
     "iopub.status.busy": "2021-12-30T00:16:43.609019Z",
     "iopub.status.idle": "2021-12-30T00:16:43.824377Z",
     "shell.execute_reply": "2021-12-30T00:16:43.825624Z",
     "shell.execute_reply.started": "2021-12-30T00:10:10.519649Z"
    },
    "papermill": {
     "duration": 0.27412,
     "end_time": "2021-12-30T00:16:43.825873",
     "exception": false,
     "start_time": "2021-12-30T00:16:43.551753",
     "status": "completed"
    },
    "scrolled": true,
    "tags": []
   },
   "outputs": [
    {
     "data": {
      "text/plain": [
       "<AxesSubplot:>"
      ]
     },
     "execution_count": 23,
     "metadata": {},
     "output_type": "execute_result"
    },
    {
     "data": {
      "image/png": "[encoded data removed]",
      "text/plain": [
       "<Figure size 432x288 with 1 Axes>"
      ]
     },
     "metadata": {
      "needs_background": "light"
     },
     "output_type": "display_data"
    }
   ],
   "source": [
    "adult_df.loc[adult_df['capital-loss'] == '?'] = 0\n",
    "adult_df['capital-loss'] = adult_df['capital-loss'].astype(int)\n",
    "adult_df.boxplot(column=['capital-loss'])"
   ]
  },
  {
   "cell_type": "markdown",
   "id": "d5a1a46b",
   "metadata": {
    "papermill": {
     "duration": 0.040956,
     "end_time": "2021-12-30T00:16:43.913952",
     "exception": false,
     "start_time": "2021-12-30T00:16:43.872996",
     "status": "completed"
    },
    "tags": []
   },
   "source": [
    "Здесь что-либо отрезать не стоит. Особых вбросов нет. Боле того, с практической точки зрения это, вероятно, самая важная аудитория. Ведь, вероятнее всего, оценивать людей на состоятельность хочет банк и,вероятно, для решения о даче кредита. Вполне возможно, что не малая часть людей с небольшой потерей капитала - те, кто решил попробовать открыть своё дело, но не пошло. А об открытии своего дела задумываются, как правило, люди с определённым доходом"
   ]
  },
  {
   "cell_type": "code",
   "execution_count": 24,
   "id": "011b43e6",
   "metadata": {
    "execution": {
     "iopub.execute_input": "2021-12-30T00:16:44.009365Z",
     "iopub.status.busy": "2021-12-30T00:16:44.008538Z",
     "iopub.status.idle": "2021-12-30T00:16:44.013306Z",
     "shell.execute_reply": "2021-12-30T00:16:44.013684Z",
     "shell.execute_reply.started": "2021-12-30T00:10:10.761270Z"
    },
    "papermill": {
     "duration": 0.058753,
     "end_time": "2021-12-30T00:16:44.013811",
     "exception": false,
     "start_time": "2021-12-30T00:16:43.955058",
     "status": "completed"
    },
    "tags": []
   },
   "outputs": [],
   "source": [
    "adult_df['hours-per-week'].value_counts()\n",
    "adult_df['hours-per-week'] = adult_df['hours-per-week'].astype(int)\n",
    "#adult_df.loc[adult_df['hours-per-week'] == None]"
   ]
  },
  {
   "cell_type": "code",
   "execution_count": 25,
   "id": "9d105c42",
   "metadata": {
    "execution": {
     "iopub.execute_input": "2021-12-30T00:16:44.105677Z",
     "iopub.status.busy": "2021-12-30T00:16:44.104796Z",
     "iopub.status.idle": "2021-12-30T00:16:44.365723Z",
     "shell.execute_reply": "2021-12-30T00:16:44.365206Z",
     "shell.execute_reply.started": "2021-12-30T00:10:10.792248Z"
    },
    "papermill": {
     "duration": 0.310312,
     "end_time": "2021-12-30T00:16:44.365864",
     "exception": false,
     "start_time": "2021-12-30T00:16:44.055552",
     "status": "completed"
    },
    "scrolled": true,
    "tags": []
   },
   "outputs": [
    {
     "data": {
      "text/plain": [
       "<AxesSubplot:>"
      ]
     },
     "execution_count": 25,
     "metadata": {},
     "output_type": "execute_result"
    },
    {
     "data": {
      "image/png": "[encoded data removed]",
      "text/plain": [
       "<Figure size 432x288 with 1 Axes>"
      ]
     },
     "metadata": {
      "needs_background": "light"
     },
     "output_type": "display_data"
    }
   ],
   "source": [
    "adult_df.boxplot(column=['hours-per-week'])"
   ]
  },
  {
   "cell_type": "code",
   "execution_count": 26,
   "id": "b6f35ed8",
   "metadata": {
    "execution": {
     "iopub.execute_input": "2021-12-30T00:16:44.460477Z",
     "iopub.status.busy": "2021-12-30T00:16:44.459674Z",
     "iopub.status.idle": "2021-12-30T00:16:52.862701Z",
     "shell.execute_reply": "2021-12-30T00:16:52.861791Z",
     "shell.execute_reply.started": "2021-12-30T00:10:11.123457Z"
    },
    "papermill": {
     "duration": 8.45188,
     "end_time": "2021-12-30T00:16:52.862844",
     "exception": false,
     "start_time": "2021-12-30T00:16:44.410964",
     "status": "completed"
    },
    "tags": []
   },
   "outputs": [
    {
     "name": "stdout",
     "output_type": "stream",
     "text": [
      "Requirement already satisfied: seaborn in /opt/conda/lib/python3.7/site-packages (0.11.2)\r\n",
      "Requirement already satisfied: pandas>=0.23 in /opt/conda/lib/python3.7/site-packages (from seaborn) (1.3.4)\r\n",
      "Requirement already satisfied: matplotlib>=2.2 in /opt/conda/lib/python3.7/site-packages (from seaborn) (3.5.0)\r\n",
      "Requirement already satisfied: scipy>=1.0 in /opt/conda/lib/python3.7/site-packages (from seaborn) (1.7.2)\r\n",
      "Requirement already satisfied: numpy>=1.15 in /opt/conda/lib/python3.7/site-packages (from seaborn) (1.19.5)\r\n",
      "Requirement already satisfied: python-dateutil>=2.7 in /opt/conda/lib/python3.7/site-packages (from matplotlib>=2.2->seaborn) (2.8.0)\r\n",
      "Requirement already satisfied: pyparsing>=2.2.1 in /opt/conda/lib/python3.7/site-packages (from matplotlib>=2.2->seaborn) (3.0.6)\r\n",
      "Requirement already satisfied: packaging>=20.0 in /opt/conda/lib/python3.7/site-packages (from matplotlib>=2.2->seaborn) (21.0)\r\n",
      "Requirement already satisfied: setuptools-scm>=4 in /opt/conda/lib/python3.7/site-packages (from matplotlib>=2.2->seaborn) (6.3.2)\r\n",
      "Requirement already satisfied: fonttools>=4.22.0 in /opt/conda/lib/python3.7/site-packages (from matplotlib>=2.2->seaborn) (4.28.2)\r\n",
      "Requirement already satisfied: pillow>=6.2.0 in /opt/conda/lib/python3.7/site-packages (from matplotlib>=2.2->seaborn) (8.2.0)\r\n",
      "Requirement already satisfied: kiwisolver>=1.0.1 in /opt/conda/lib/python3.7/site-packages (from matplotlib>=2.2->seaborn) (1.3.2)\r\n",
      "Requirement already satisfied: cycler>=0.10 in /opt/conda/lib/python3.7/site-packages (from matplotlib>=2.2->seaborn) (0.11.0)\r\n",
      "Requirement already satisfied: pytz>=2017.3 in /opt/conda/lib/python3.7/site-packages (from pandas>=0.23->seaborn) (2021.3)\r\n",
      "Requirement already satisfied: six>=1.5 in /opt/conda/lib/python3.7/site-packages (from python-dateutil>=2.7->matplotlib>=2.2->seaborn) (1.16.0)\r\n",
      "Requirement already satisfied: tomli>=1.0.0 in /opt/conda/lib/python3.7/site-packages (from setuptools-scm>=4->matplotlib>=2.2->seaborn) (1.2.2)\r\n",
      "Requirement already satisfied: setuptools in /opt/conda/lib/python3.7/site-packages (from setuptools-scm>=4->matplotlib>=2.2->seaborn) (59.1.1)\r\n",
      "\u001b[33mWARNING: Running pip as the 'root' user can result in broken permissions and conflicting behaviour with the system package manager. It is recommended to use a virtual environment instead: https://pip.pypa.io/warnings/venv\u001b[0m\r\n"
     ]
    }
   ],
   "source": [
    "!pip install -U seaborn"
   ]
  },
  {
   "cell_type": "code",
   "execution_count": 27,
   "id": "2d5f2bc2",
   "metadata": {
    "execution": {
     "iopub.execute_input": "2021-12-30T00:16:52.955812Z",
     "iopub.status.busy": "2021-12-30T00:16:52.955110Z",
     "iopub.status.idle": "2021-12-30T00:16:54.731102Z",
     "shell.execute_reply": "2021-12-30T00:16:54.731555Z",
     "shell.execute_reply.started": "2021-12-30T00:10:19.996997Z"
    },
    "papermill": {
     "duration": 1.824541,
     "end_time": "2021-12-30T00:16:54.731712",
     "exception": false,
     "start_time": "2021-12-30T00:16:52.907171",
     "status": "completed"
    },
    "tags": []
   },
   "outputs": [
    {
     "data": {
      "text/plain": [
       "<AxesSubplot:xlabel='hours-per-week', ylabel='Count'>"
      ]
     },
     "execution_count": 27,
     "metadata": {},
     "output_type": "execute_result"
    },
    {
     "data": {
      "image/png": "[encoded data removed]",
      "text/plain": [
       "<Figure size 432x288 with 1 Axes>"
      ]
     },
     "metadata": {
      "needs_background": "light"
     },
     "output_type": "display_data"
    }
   ],
   "source": [
    "import seaborn as sns\n",
    "\n",
    "sns.histplot(adult_df['hours-per-week'], shrink=10)"
   ]
  },
  {
   "cell_type": "code",
   "execution_count": 28,
   "id": "7ab1db86",
   "metadata": {
    "execution": {
     "iopub.execute_input": "2021-12-30T00:16:54.825410Z",
     "iopub.status.busy": "2021-12-30T00:16:54.824624Z",
     "iopub.status.idle": "2021-12-30T00:16:54.837056Z",
     "shell.execute_reply": "2021-12-30T00:16:54.836660Z",
     "shell.execute_reply.started": "2021-12-30T00:10:21.759338Z"
    },
    "papermill": {
     "duration": 0.060741,
     "end_time": "2021-12-30T00:16:54.837164",
     "exception": false,
     "start_time": "2021-12-30T00:16:54.776423",
     "status": "completed"
    },
    "tags": []
   },
   "outputs": [
    {
     "data": {
      "text/plain": [
       "United-States                 43788\n",
       "Mexico                          951\n",
       "?                               856\n",
       "Philippines                     294\n",
       "Germany                         206\n",
       "Puerto-Rico                     184\n",
       "Canada                          182\n",
       "El-Salvador                     155\n",
       "India                           151\n",
       "Cuba                            138\n",
       "England                         127\n",
       "China                           122\n",
       "South                           115\n",
       "Jamaica                         106\n",
       "Italy                           105\n",
       "Dominican-Republic              103\n",
       "Japan                            92\n",
       "Guatemala                        88\n",
       "Poland                           87\n",
       "Vietnam                          86\n",
       "Columbia                         85\n",
       "Haiti                            75\n",
       "Portugal                         67\n",
       "Taiwan                           65\n",
       "Iran                             59\n",
       "Nicaragua                        49\n",
       "Greece                           49\n",
       "Peru                             46\n",
       "0                                46\n",
       "Ecuador                          45\n",
       "France                           38\n",
       "Ireland                          37\n",
       "Thailand                         30\n",
       "Hong                             30\n",
       "Cambodia                         28\n",
       "Trinadad&Tobago                  27\n",
       "Outlying-US(Guam-USVI-etc)       23\n",
       "Laos                             23\n",
       "Yugoslavia                       23\n",
       "Scotland                         21\n",
       "Honduras                         20\n",
       "Hungary                          19\n",
       "Holand-Netherlands                1\n",
       "Name: native-country, dtype: int64"
      ]
     },
     "execution_count": 28,
     "metadata": {},
     "output_type": "execute_result"
    }
   ],
   "source": [
    "adult_df['native-country'].value_counts()"
   ]
  },
  {
   "cell_type": "markdown",
   "id": "b863ae7f",
   "metadata": {
    "papermill": {
     "duration": 0.044518,
     "end_time": "2021-12-30T00:16:54.926290",
     "exception": false,
     "start_time": "2021-12-30T00:16:54.881772",
     "status": "completed"
    },
    "tags": []
   },
   "source": [
    "Последние 20 мне кажется можно смело менять на \"?\""
   ]
  },
  {
   "cell_type": "code",
   "execution_count": 29,
   "id": "454e5f98",
   "metadata": {
    "execution": {
     "iopub.execute_input": "2021-12-30T00:16:55.045605Z",
     "iopub.status.busy": "2021-12-30T00:16:55.044866Z",
     "iopub.status.idle": "2021-12-30T00:21:10.610411Z",
     "shell.execute_reply": "2021-12-30T00:21:10.610826Z",
     "shell.execute_reply.started": "2021-12-30T00:10:21.776766Z"
    },
    "papermill": {
     "duration": 255.63844,
     "end_time": "2021-12-30T00:21:10.610988",
     "exception": false,
     "start_time": "2021-12-30T00:16:54.972548",
     "status": "completed"
    },
    "tags": []
   },
   "outputs": [
    {
     "data": {
      "text/plain": [
       "United-States         43788\n",
       "?                      1535\n",
       "Mexico                  951\n",
       "Philippines             294\n",
       "Germany                 206\n",
       "Puerto-Rico             184\n",
       "Canada                  182\n",
       "El-Salvador             155\n",
       "India                   151\n",
       "Cuba                    138\n",
       "England                 127\n",
       "China                   122\n",
       "South                   115\n",
       "Jamaica                 106\n",
       "Italy                   105\n",
       "Dominican-Republic      103\n",
       "Japan                    92\n",
       "Guatemala                88\n",
       "Poland                   87\n",
       "Vietnam                  86\n",
       "Columbia                 85\n",
       "Haiti                    75\n",
       "Portugal                 67\n",
       "Name: native-country, dtype: int64"
      ]
     },
     "execution_count": 29,
     "metadata": {},
     "output_type": "execute_result"
    }
   ],
   "source": [
    "adult_df['native-country'] = adult_df['native-country'].apply(lambda nc: nc if not(nc in adult_df['native-country'].value_counts()[-20:]) else \"?\")\n",
    "adult_df['native-country'].value_counts()"
   ]
  },
  {
   "cell_type": "code",
   "execution_count": 30,
   "id": "6bb6581d",
   "metadata": {
    "execution": {
     "iopub.execute_input": "2021-12-30T00:21:10.703640Z",
     "iopub.status.busy": "2021-12-30T00:21:10.702970Z",
     "iopub.status.idle": "2021-12-30T00:21:10.705713Z",
     "shell.execute_reply": "2021-12-30T00:21:10.705244Z",
     "shell.execute_reply.started": "2021-12-30T00:14:39.807799Z"
    },
    "papermill": {
     "duration": 0.050483,
     "end_time": "2021-12-30T00:21:10.705818",
     "exception": false,
     "start_time": "2021-12-30T00:21:10.655335",
     "status": "completed"
    },
    "tags": []
   },
   "outputs": [],
   "source": [
    "DUMMY_SEP = '__'"
   ]
  },
  {
   "cell_type": "code",
   "execution_count": 31,
   "id": "7ef42688",
   "metadata": {
    "execution": {
     "iopub.execute_input": "2021-12-30T00:21:10.799693Z",
     "iopub.status.busy": "2021-12-30T00:21:10.798864Z",
     "iopub.status.idle": "2021-12-30T00:21:10.869791Z",
     "shell.execute_reply": "2021-12-30T00:21:10.870152Z",
     "shell.execute_reply.started": "2021-12-30T00:14:39.813856Z"
    },
    "papermill": {
     "duration": 0.120153,
     "end_time": "2021-12-30T00:21:10.870294",
     "exception": false,
     "start_time": "2021-12-30T00:21:10.750141",
     "status": "completed"
    },
    "tags": []
   },
   "outputs": [
    {
     "data": {
      "text/html": [
       "<div>\n",
       "<style scoped>\n",
       "    .dataframe tbody tr th:only-of-type {\n",
       "        vertical-align: middle;\n",
       "    }\n",
       "\n",
       "    .dataframe tbody tr th {\n",
       "        vertical-align: top;\n",
       "    }\n",
       "\n",
       "    .dataframe thead th {\n",
       "        text-align: right;\n",
       "    }\n",
       "</style>\n",
       "<table border=\"1\" class=\"dataframe\">\n",
       "  <thead>\n",
       "    <tr style=\"text-align: right;\">\n",
       "      <th></th>\n",
       "      <th>age</th>\n",
       "      <th>educational-num</th>\n",
       "      <th>capital-gain</th>\n",
       "      <th>capital-loss</th>\n",
       "      <th>hours-per-week</th>\n",
       "      <th>income</th>\n",
       "      <th>workclass__0</th>\n",
       "      <th>workclass__?</th>\n",
       "      <th>workclass__Federal-gov</th>\n",
       "      <th>workclass__Local-gov</th>\n",
       "      <th>...</th>\n",
       "      <th>native-country__Jamaica</th>\n",
       "      <th>native-country__Japan</th>\n",
       "      <th>native-country__Mexico</th>\n",
       "      <th>native-country__Philippines</th>\n",
       "      <th>native-country__Poland</th>\n",
       "      <th>native-country__Portugal</th>\n",
       "      <th>native-country__Puerto-Rico</th>\n",
       "      <th>native-country__South</th>\n",
       "      <th>native-country__United-States</th>\n",
       "      <th>native-country__Vietnam</th>\n",
       "    </tr>\n",
       "  </thead>\n",
       "  <tbody>\n",
       "    <tr>\n",
       "      <th>0</th>\n",
       "      <td>25</td>\n",
       "      <td>7</td>\n",
       "      <td>0</td>\n",
       "      <td>0</td>\n",
       "      <td>40</td>\n",
       "      <td>0</td>\n",
       "      <td>0</td>\n",
       "      <td>0</td>\n",
       "      <td>0</td>\n",
       "      <td>0</td>\n",
       "      <td>...</td>\n",
       "      <td>0</td>\n",
       "      <td>0</td>\n",
       "      <td>0</td>\n",
       "      <td>0</td>\n",
       "      <td>0</td>\n",
       "      <td>0</td>\n",
       "      <td>0</td>\n",
       "      <td>0</td>\n",
       "      <td>1</td>\n",
       "      <td>0</td>\n",
       "    </tr>\n",
       "    <tr>\n",
       "      <th>1</th>\n",
       "      <td>38</td>\n",
       "      <td>9</td>\n",
       "      <td>0</td>\n",
       "      <td>0</td>\n",
       "      <td>50</td>\n",
       "      <td>0</td>\n",
       "      <td>0</td>\n",
       "      <td>0</td>\n",
       "      <td>0</td>\n",
       "      <td>0</td>\n",
       "      <td>...</td>\n",
       "      <td>0</td>\n",
       "      <td>0</td>\n",
       "      <td>0</td>\n",
       "      <td>0</td>\n",
       "      <td>0</td>\n",
       "      <td>0</td>\n",
       "      <td>0</td>\n",
       "      <td>0</td>\n",
       "      <td>1</td>\n",
       "      <td>0</td>\n",
       "    </tr>\n",
       "    <tr>\n",
       "      <th>2</th>\n",
       "      <td>28</td>\n",
       "      <td>12</td>\n",
       "      <td>0</td>\n",
       "      <td>0</td>\n",
       "      <td>40</td>\n",
       "      <td>1</td>\n",
       "      <td>0</td>\n",
       "      <td>0</td>\n",
       "      <td>0</td>\n",
       "      <td>1</td>\n",
       "      <td>...</td>\n",
       "      <td>0</td>\n",
       "      <td>0</td>\n",
       "      <td>0</td>\n",
       "      <td>0</td>\n",
       "      <td>0</td>\n",
       "      <td>0</td>\n",
       "      <td>0</td>\n",
       "      <td>0</td>\n",
       "      <td>1</td>\n",
       "      <td>0</td>\n",
       "    </tr>\n",
       "    <tr>\n",
       "      <th>3</th>\n",
       "      <td>44</td>\n",
       "      <td>10</td>\n",
       "      <td>7688</td>\n",
       "      <td>0</td>\n",
       "      <td>40</td>\n",
       "      <td>1</td>\n",
       "      <td>0</td>\n",
       "      <td>0</td>\n",
       "      <td>0</td>\n",
       "      <td>0</td>\n",
       "      <td>...</td>\n",
       "      <td>0</td>\n",
       "      <td>0</td>\n",
       "      <td>0</td>\n",
       "      <td>0</td>\n",
       "      <td>0</td>\n",
       "      <td>0</td>\n",
       "      <td>0</td>\n",
       "      <td>0</td>\n",
       "      <td>1</td>\n",
       "      <td>0</td>\n",
       "    </tr>\n",
       "    <tr>\n",
       "      <th>4</th>\n",
       "      <td>18</td>\n",
       "      <td>10</td>\n",
       "      <td>0</td>\n",
       "      <td>0</td>\n",
       "      <td>30</td>\n",
       "      <td>0</td>\n",
       "      <td>0</td>\n",
       "      <td>1</td>\n",
       "      <td>0</td>\n",
       "      <td>0</td>\n",
       "      <td>...</td>\n",
       "      <td>0</td>\n",
       "      <td>0</td>\n",
       "      <td>0</td>\n",
       "      <td>0</td>\n",
       "      <td>0</td>\n",
       "      <td>0</td>\n",
       "      <td>0</td>\n",
       "      <td>0</td>\n",
       "      <td>1</td>\n",
       "      <td>0</td>\n",
       "    </tr>\n",
       "    <tr>\n",
       "      <th>...</th>\n",
       "      <td>...</td>\n",
       "      <td>...</td>\n",
       "      <td>...</td>\n",
       "      <td>...</td>\n",
       "      <td>...</td>\n",
       "      <td>...</td>\n",
       "      <td>...</td>\n",
       "      <td>...</td>\n",
       "      <td>...</td>\n",
       "      <td>...</td>\n",
       "      <td>...</td>\n",
       "      <td>...</td>\n",
       "      <td>...</td>\n",
       "      <td>...</td>\n",
       "      <td>...</td>\n",
       "      <td>...</td>\n",
       "      <td>...</td>\n",
       "      <td>...</td>\n",
       "      <td>...</td>\n",
       "      <td>...</td>\n",
       "      <td>...</td>\n",
       "    </tr>\n",
       "    <tr>\n",
       "      <th>48837</th>\n",
       "      <td>27</td>\n",
       "      <td>12</td>\n",
       "      <td>0</td>\n",
       "      <td>0</td>\n",
       "      <td>38</td>\n",
       "      <td>0</td>\n",
       "      <td>0</td>\n",
       "      <td>0</td>\n",
       "      <td>0</td>\n",
       "      <td>0</td>\n",
       "      <td>...</td>\n",
       "      <td>0</td>\n",
       "      <td>0</td>\n",
       "      <td>0</td>\n",
       "      <td>0</td>\n",
       "      <td>0</td>\n",
       "      <td>0</td>\n",
       "      <td>0</td>\n",
       "      <td>0</td>\n",
       "      <td>1</td>\n",
       "      <td>0</td>\n",
       "    </tr>\n",
       "    <tr>\n",
       "      <th>48838</th>\n",
       "      <td>40</td>\n",
       "      <td>9</td>\n",
       "      <td>0</td>\n",
       "      <td>0</td>\n",
       "      <td>40</td>\n",
       "      <td>1</td>\n",
       "      <td>0</td>\n",
       "      <td>0</td>\n",
       "      <td>0</td>\n",
       "      <td>0</td>\n",
       "      <td>...</td>\n",
       "      <td>0</td>\n",
       "      <td>0</td>\n",
       "      <td>0</td>\n",
       "      <td>0</td>\n",
       "      <td>0</td>\n",
       "      <td>0</td>\n",
       "      <td>0</td>\n",
       "      <td>0</td>\n",
       "      <td>1</td>\n",
       "      <td>0</td>\n",
       "    </tr>\n",
       "    <tr>\n",
       "      <th>48839</th>\n",
       "      <td>58</td>\n",
       "      <td>9</td>\n",
       "      <td>0</td>\n",
       "      <td>0</td>\n",
       "      <td>40</td>\n",
       "      <td>0</td>\n",
       "      <td>0</td>\n",
       "      <td>0</td>\n",
       "      <td>0</td>\n",
       "      <td>0</td>\n",
       "      <td>...</td>\n",
       "      <td>0</td>\n",
       "      <td>0</td>\n",
       "      <td>0</td>\n",
       "      <td>0</td>\n",
       "      <td>0</td>\n",
       "      <td>0</td>\n",
       "      <td>0</td>\n",
       "      <td>0</td>\n",
       "      <td>1</td>\n",
       "      <td>0</td>\n",
       "    </tr>\n",
       "    <tr>\n",
       "      <th>48840</th>\n",
       "      <td>22</td>\n",
       "      <td>9</td>\n",
       "      <td>0</td>\n",
       "      <td>0</td>\n",
       "      <td>20</td>\n",
       "      <td>0</td>\n",
       "      <td>0</td>\n",
       "      <td>0</td>\n",
       "      <td>0</td>\n",
       "      <td>0</td>\n",
       "      <td>...</td>\n",
       "      <td>0</td>\n",
       "      <td>0</td>\n",
       "      <td>0</td>\n",
       "      <td>0</td>\n",
       "      <td>0</td>\n",
       "      <td>0</td>\n",
       "      <td>0</td>\n",
       "      <td>0</td>\n",
       "      <td>1</td>\n",
       "      <td>0</td>\n",
       "    </tr>\n",
       "    <tr>\n",
       "      <th>48841</th>\n",
       "      <td>52</td>\n",
       "      <td>9</td>\n",
       "      <td>15024</td>\n",
       "      <td>0</td>\n",
       "      <td>40</td>\n",
       "      <td>1</td>\n",
       "      <td>0</td>\n",
       "      <td>0</td>\n",
       "      <td>0</td>\n",
       "      <td>0</td>\n",
       "      <td>...</td>\n",
       "      <td>0</td>\n",
       "      <td>0</td>\n",
       "      <td>0</td>\n",
       "      <td>0</td>\n",
       "      <td>0</td>\n",
       "      <td>0</td>\n",
       "      <td>0</td>\n",
       "      <td>0</td>\n",
       "      <td>1</td>\n",
       "      <td>0</td>\n",
       "    </tr>\n",
       "  </tbody>\n",
       "</table>\n",
       "<p>48842 rows × 93 columns</p>\n",
       "</div>"
      ],
      "text/plain": [
       "      age educational-num  capital-gain  capital-loss  hours-per-week income  \\\n",
       "0      25               7             0             0              40      0   \n",
       "1      38               9             0             0              50      0   \n",
       "2      28              12             0             0              40      1   \n",
       "3      44              10          7688             0              40      1   \n",
       "4      18              10             0             0              30      0   \n",
       "...    ..             ...           ...           ...             ...    ...   \n",
       "48837  27              12             0             0              38      0   \n",
       "48838  40               9             0             0              40      1   \n",
       "48839  58               9             0             0              40      0   \n",
       "48840  22               9             0             0              20      0   \n",
       "48841  52               9         15024             0              40      1   \n",
       "\n",
       "       workclass__0  workclass__?  workclass__Federal-gov  \\\n",
       "0                 0             0                       0   \n",
       "1                 0             0                       0   \n",
       "2                 0             0                       0   \n",
       "3                 0             0                       0   \n",
       "4                 0             1                       0   \n",
       "...             ...           ...                     ...   \n",
       "48837             0             0                       0   \n",
       "48838             0             0                       0   \n",
       "48839             0             0                       0   \n",
       "48840             0             0                       0   \n",
       "48841             0             0                       0   \n",
       "\n",
       "       workclass__Local-gov  ...  native-country__Jamaica  \\\n",
       "0                         0  ...                        0   \n",
       "1                         0  ...                        0   \n",
       "2                         1  ...                        0   \n",
       "3                         0  ...                        0   \n",
       "4                         0  ...                        0   \n",
       "...                     ...  ...                      ...   \n",
       "48837                     0  ...                        0   \n",
       "48838                     0  ...                        0   \n",
       "48839                     0  ...                        0   \n",
       "48840                     0  ...                        0   \n",
       "48841                     0  ...                        0   \n",
       "\n",
       "       native-country__Japan  native-country__Mexico  \\\n",
       "0                          0                       0   \n",
       "1                          0                       0   \n",
       "2                          0                       0   \n",
       "3                          0                       0   \n",
       "4                          0                       0   \n",
       "...                      ...                     ...   \n",
       "48837                      0                       0   \n",
       "48838                      0                       0   \n",
       "48839                      0                       0   \n",
       "48840                      0                       0   \n",
       "48841                      0                       0   \n",
       "\n",
       "       native-country__Philippines  native-country__Poland  \\\n",
       "0                                0                       0   \n",
       "1                                0                       0   \n",
       "2                                0                       0   \n",
       "3                                0                       0   \n",
       "4                                0                       0   \n",
       "...                            ...                     ...   \n",
       "48837                            0                       0   \n",
       "48838                            0                       0   \n",
       "48839                            0                       0   \n",
       "48840                            0                       0   \n",
       "48841                            0                       0   \n",
       "\n",
       "       native-country__Portugal  native-country__Puerto-Rico  \\\n",
       "0                             0                            0   \n",
       "1                             0                            0   \n",
       "2                             0                            0   \n",
       "3                             0                            0   \n",
       "4                             0                            0   \n",
       "...                         ...                          ...   \n",
       "48837                         0                            0   \n",
       "48838                         0                            0   \n",
       "48839                         0                            0   \n",
       "48840                         0                            0   \n",
       "48841                         0                            0   \n",
       "\n",
       "       native-country__South  native-country__United-States  \\\n",
       "0                          0                              1   \n",
       "1                          0                              1   \n",
       "2                          0                              1   \n",
       "3                          0                              1   \n",
       "4                          0                              1   \n",
       "...                      ...                            ...   \n",
       "48837                      0                              1   \n",
       "48838                      0                              1   \n",
       "48839                      0                              1   \n",
       "48840                      0                              1   \n",
       "48841                      0                              1   \n",
       "\n",
       "       native-country__Vietnam  \n",
       "0                            0  \n",
       "1                            0  \n",
       "2                            0  \n",
       "3                            0  \n",
       "4                            0  \n",
       "...                        ...  \n",
       "48837                        0  \n",
       "48838                        0  \n",
       "48839                        0  \n",
       "48840                        0  \n",
       "48841                        0  \n",
       "\n",
       "[48842 rows x 93 columns]"
      ]
     },
     "execution_count": 31,
     "metadata": {},
     "output_type": "execute_result"
    }
   ],
   "source": [
    "adult_df = pd.get_dummies(adult_df,columns = ['workclass', 'education', 'marital-status', 'occupation', 'relationship', 'race', 'gender', 'native-country'], prefix_sep=DUMMY_SEP)\n",
    "adult_df"
   ]
  },
  {
   "cell_type": "markdown",
   "id": "52415646",
   "metadata": {
    "papermill": {
     "duration": 0.045403,
     "end_time": "2021-12-30T00:21:10.961131",
     "exception": false,
     "start_time": "2021-12-30T00:21:10.915728",
     "status": "completed"
    },
    "tags": []
   },
   "source": [
    "Делю на выборки"
   ]
  },
  {
   "cell_type": "code",
   "execution_count": 32,
   "id": "41af05af",
   "metadata": {
    "execution": {
     "iopub.execute_input": "2021-12-30T00:21:11.056124Z",
     "iopub.status.busy": "2021-12-30T00:21:11.055466Z",
     "iopub.status.idle": "2021-12-30T00:21:11.207022Z",
     "shell.execute_reply": "2021-12-30T00:21:11.206548Z",
     "shell.execute_reply.started": "2021-12-30T00:14:39.896305Z"
    },
    "papermill": {
     "duration": 0.200525,
     "end_time": "2021-12-30T00:21:11.207137",
     "exception": false,
     "start_time": "2021-12-30T00:21:11.006612",
     "status": "completed"
    },
    "tags": []
   },
   "outputs": [],
   "source": [
    "from sklearn.model_selection import train_test_split\n",
    "\n",
    "train, test =  train_test_split( adult_df, test_size =0.1)"
   ]
  },
  {
   "cell_type": "code",
   "execution_count": 33,
   "id": "d13362ce",
   "metadata": {
    "execution": {
     "iopub.execute_input": "2021-12-30T00:21:11.306694Z",
     "iopub.status.busy": "2021-12-30T00:21:11.305904Z",
     "iopub.status.idle": "2021-12-30T00:21:11.520517Z",
     "shell.execute_reply": "2021-12-30T00:21:11.521152Z",
     "shell.execute_reply.started": "2021-12-30T00:14:40.035005Z"
    },
    "papermill": {
     "duration": 0.268621,
     "end_time": "2021-12-30T00:21:11.521386",
     "exception": false,
     "start_time": "2021-12-30T00:21:11.252765",
     "status": "completed"
    },
    "scrolled": true,
    "tags": []
   },
   "outputs": [
    {
     "name": "stderr",
     "output_type": "stream",
     "text": [
      "/opt/conda/lib/python3.7/site-packages/ipykernel_launcher.py:1: SettingWithCopyWarning: \n",
      "A value is trying to be set on a copy of a slice from a DataFrame.\n",
      "Try using .loc[row_indexer,col_indexer] = value instead\n",
      "\n",
      "See the caveats in the documentation: https://pandas.pydata.org/pandas-docs/stable/user_guide/indexing.html#returning-a-view-versus-a-copy\n",
      "  \"\"\"Entry point for launching an IPython kernel.\n"
     ]
    },
    {
     "data": {
      "text/plain": [
       "<AxesSubplot:>"
      ]
     },
     "execution_count": 33,
     "metadata": {},
     "output_type": "execute_result"
    },
    {
     "data": {
      "image/png": "[encoded data removed]",
      "text/plain": [
       "<Figure size 432x288 with 1 Axes>"
      ]
     },
     "metadata": {
      "needs_background": "light"
     },
     "output_type": "display_data"
    }
   ],
   "source": [
    "train['age'] = train['age'].astype(int)\n",
    "train = train.loc[train['age'] < train['age'].quantile(q=0.95)]\n",
    "train.boxplot(column=['age'])"
   ]
  },
  {
   "cell_type": "code",
   "execution_count": 34,
   "id": "0f43e550",
   "metadata": {
    "execution": {
     "iopub.execute_input": "2021-12-30T00:21:11.626036Z",
     "iopub.status.busy": "2021-12-30T00:21:11.625236Z",
     "iopub.status.idle": "2021-12-30T00:21:11.633604Z",
     "shell.execute_reply": "2021-12-30T00:21:11.634162Z",
     "shell.execute_reply.started": "2021-12-30T00:14:40.272524Z"
    },
    "papermill": {
     "duration": 0.061649,
     "end_time": "2021-12-30T00:21:11.634332",
     "exception": false,
     "start_time": "2021-12-30T00:21:11.572683",
     "status": "completed"
    },
    "tags": []
   },
   "outputs": [
    {
     "name": "stderr",
     "output_type": "stream",
     "text": [
      "/opt/conda/lib/python3.7/site-packages/ipykernel_launcher.py:6: SettingWithCopyWarning: \n",
      "A value is trying to be set on a copy of a slice from a DataFrame.\n",
      "Try using .loc[row_indexer,col_indexer] = value instead\n",
      "\n",
      "See the caveats in the documentation: https://pandas.pydata.org/pandas-docs/stable/user_guide/indexing.html#returning-a-view-versus-a-copy\n",
      "  \n"
     ]
    }
   ],
   "source": [
    "from sklearn import preprocessing\n",
    "\n",
    "scaler_age = preprocessing.StandardScaler().fit(train[['age']])\n",
    "\n",
    "train['age'] = scaler_age.transform(train[['age']]).reshape(-1)\n",
    "test['age'] = scaler_age.transform(test[['age']]).reshape(-1)"
   ]
  },
  {
   "cell_type": "code",
   "execution_count": 35,
   "id": "3da4d6f4",
   "metadata": {
    "execution": {
     "iopub.execute_input": "2021-12-30T00:21:11.748833Z",
     "iopub.status.busy": "2021-12-30T00:21:11.737422Z",
     "iopub.status.idle": "2021-12-30T00:21:11.932654Z",
     "shell.execute_reply": "2021-12-30T00:21:11.933749Z",
     "shell.execute_reply.started": "2021-12-30T00:14:40.289637Z"
    },
    "papermill": {
     "duration": 0.252282,
     "end_time": "2021-12-30T00:21:11.933963",
     "exception": false,
     "start_time": "2021-12-30T00:21:11.681681",
     "status": "completed"
    },
    "tags": []
   },
   "outputs": [
    {
     "data": {
      "text/plain": [
       "<AxesSubplot:>"
      ]
     },
     "execution_count": 35,
     "metadata": {},
     "output_type": "execute_result"
    },
    {
     "data": {
      "image/png": "[encoded data removed]",
      "text/plain": [
       "<Figure size 432x288 with 1 Axes>"
      ]
     },
     "metadata": {
      "needs_background": "light"
     },
     "output_type": "display_data"
    }
   ],
   "source": [
    "train.boxplot(column=['age'])"
   ]
  },
  {
   "cell_type": "code",
   "execution_count": 36,
   "id": "58119791",
   "metadata": {
    "execution": {
     "iopub.execute_input": "2021-12-30T00:21:12.046946Z",
     "iopub.status.busy": "2021-12-30T00:21:12.046139Z",
     "iopub.status.idle": "2021-12-30T00:21:12.240133Z",
     "shell.execute_reply": "2021-12-30T00:21:12.240823Z",
     "shell.execute_reply.started": "2021-12-30T00:14:40.512391Z"
    },
    "papermill": {
     "duration": 0.249117,
     "end_time": "2021-12-30T00:21:12.240976",
     "exception": false,
     "start_time": "2021-12-30T00:21:11.991859",
     "status": "completed"
    },
    "tags": []
   },
   "outputs": [
    {
     "data": {
      "text/plain": [
       "<AxesSubplot:>"
      ]
     },
     "execution_count": 36,
     "metadata": {},
     "output_type": "execute_result"
    },
    {
     "data": {
      "image/png": "[encoded data removed]",
      "text/plain": [
       "<Figure size 432x288 with 1 Axes>"
      ]
     },
     "metadata": {
      "needs_background": "light"
     },
     "output_type": "display_data"
    }
   ],
   "source": [
    "train['educational-num'] = train['educational-num'].astype(int)\n",
    "train = train.loc[train['educational-num'] > train['educational-num'].quantile(q=0.05)]\n",
    "train.boxplot(column=['educational-num'])"
   ]
  },
  {
   "cell_type": "code",
   "execution_count": 37,
   "id": "664f1c2e",
   "metadata": {
    "execution": {
     "iopub.execute_input": "2021-12-30T00:21:12.358527Z",
     "iopub.status.busy": "2021-12-30T00:21:12.357671Z",
     "iopub.status.idle": "2021-12-30T00:21:12.366616Z",
     "shell.execute_reply": "2021-12-30T00:21:12.366157Z",
     "shell.execute_reply.started": "2021-12-30T00:14:40.726018Z"
    },
    "papermill": {
     "duration": 0.063692,
     "end_time": "2021-12-30T00:21:12.366722",
     "exception": false,
     "start_time": "2021-12-30T00:21:12.303030",
     "status": "completed"
    },
    "tags": []
   },
   "outputs": [
    {
     "name": "stderr",
     "output_type": "stream",
     "text": [
      "/opt/conda/lib/python3.7/site-packages/ipykernel_launcher.py:4: SettingWithCopyWarning: \n",
      "A value is trying to be set on a copy of a slice from a DataFrame.\n",
      "Try using .loc[row_indexer,col_indexer] = value instead\n",
      "\n",
      "See the caveats in the documentation: https://pandas.pydata.org/pandas-docs/stable/user_guide/indexing.html#returning-a-view-versus-a-copy\n",
      "  after removing the cwd from sys.path.\n"
     ]
    }
   ],
   "source": [
    "scaler_educational_num = preprocessing.StandardScaler().fit(train[['educational-num']])\n",
    "\n",
    "train['educational-num'] = scaler_educational_num.transform(train[['educational-num']]).reshape(-1)\n",
    "test['educational-num'] = scaler_educational_num.transform(test[['educational-num']]).reshape(-1)"
   ]
  },
  {
   "cell_type": "code",
   "execution_count": 38,
   "id": "4a929d5f",
   "metadata": {
    "execution": {
     "iopub.execute_input": "2021-12-30T00:21:12.471936Z",
     "iopub.status.busy": "2021-12-30T00:21:12.471151Z",
     "iopub.status.idle": "2021-12-30T00:21:12.618795Z",
     "shell.execute_reply": "2021-12-30T00:21:12.620181Z",
     "shell.execute_reply.started": "2021-12-30T00:14:40.746774Z"
    },
    "papermill": {
     "duration": 0.204096,
     "end_time": "2021-12-30T00:21:12.620405",
     "exception": false,
     "start_time": "2021-12-30T00:21:12.416309",
     "status": "completed"
    },
    "tags": []
   },
   "outputs": [
    {
     "data": {
      "text/plain": [
       "<AxesSubplot:>"
      ]
     },
     "execution_count": 38,
     "metadata": {},
     "output_type": "execute_result"
    },
    {
     "data": {
      "image/png": "[encoded data removed]",
      "text/plain": [
       "<Figure size 432x288 with 1 Axes>"
      ]
     },
     "metadata": {
      "needs_background": "light"
     },
     "output_type": "display_data"
    }
   ],
   "source": [
    "train = train.loc[train['capital-gain'] < train['capital-gain'].quantile(q=0.95) * (train['capital-gain'] > 0)]\n",
    "train.boxplot(column=['capital-gain'])"
   ]
  },
  {
   "cell_type": "code",
   "execution_count": 39,
   "id": "537a4f39",
   "metadata": {
    "execution": {
     "iopub.execute_input": "2021-12-30T00:21:12.739443Z",
     "iopub.status.busy": "2021-12-30T00:21:12.736741Z",
     "iopub.status.idle": "2021-12-30T00:21:12.742674Z",
     "shell.execute_reply": "2021-12-30T00:21:12.742216Z",
     "shell.execute_reply.started": "2021-12-30T00:14:40.932172Z"
    },
    "papermill": {
     "duration": 0.064032,
     "end_time": "2021-12-30T00:21:12.742777",
     "exception": false,
     "start_time": "2021-12-30T00:21:12.678745",
     "status": "completed"
    },
    "tags": []
   },
   "outputs": [
    {
     "name": "stderr",
     "output_type": "stream",
     "text": [
      "/opt/conda/lib/python3.7/site-packages/ipykernel_launcher.py:4: SettingWithCopyWarning: \n",
      "A value is trying to be set on a copy of a slice from a DataFrame.\n",
      "Try using .loc[row_indexer,col_indexer] = value instead\n",
      "\n",
      "See the caveats in the documentation: https://pandas.pydata.org/pandas-docs/stable/user_guide/indexing.html#returning-a-view-versus-a-copy\n",
      "  after removing the cwd from sys.path.\n"
     ]
    }
   ],
   "source": [
    "scaler_cap_g = preprocessing.StandardScaler().fit(train[['capital-gain']])\n",
    "\n",
    "train['capital-gain'] = scaler_cap_g.transform(train[['capital-gain']]).reshape(-1)\n",
    "test['capital-gain'] = scaler_cap_g.transform(test[['capital-gain']]).reshape(-1)"
   ]
  },
  {
   "cell_type": "code",
   "execution_count": 40,
   "id": "bd583db5",
   "metadata": {
    "execution": {
     "iopub.execute_input": "2021-12-30T00:21:12.846949Z",
     "iopub.status.busy": "2021-12-30T00:21:12.846147Z",
     "iopub.status.idle": "2021-12-30T00:21:12.855160Z",
     "shell.execute_reply": "2021-12-30T00:21:12.855736Z",
     "shell.execute_reply.started": "2021-12-30T00:14:40.950560Z"
    },
    "papermill": {
     "duration": 0.063721,
     "end_time": "2021-12-30T00:21:12.855888",
     "exception": false,
     "start_time": "2021-12-30T00:21:12.792167",
     "status": "completed"
    },
    "tags": []
   },
   "outputs": [
    {
     "name": "stderr",
     "output_type": "stream",
     "text": [
      "/opt/conda/lib/python3.7/site-packages/ipykernel_launcher.py:4: SettingWithCopyWarning: \n",
      "A value is trying to be set on a copy of a slice from a DataFrame.\n",
      "Try using .loc[row_indexer,col_indexer] = value instead\n",
      "\n",
      "See the caveats in the documentation: https://pandas.pydata.org/pandas-docs/stable/user_guide/indexing.html#returning-a-view-versus-a-copy\n",
      "  after removing the cwd from sys.path.\n"
     ]
    }
   ],
   "source": [
    "scaler_cap_l = preprocessing.StandardScaler().fit(train[['capital-loss']])\n",
    "\n",
    "train['capital-loss'] = scaler_cap_l.transform(train[['capital-loss']]).reshape(-1)\n",
    "test['capital-loss'] = scaler_cap_l.transform(test[['capital-loss']]).reshape(-1)"
   ]
  },
  {
   "cell_type": "code",
   "execution_count": 41,
   "id": "df623c08",
   "metadata": {
    "execution": {
     "iopub.execute_input": "2021-12-30T00:21:12.962504Z",
     "iopub.status.busy": "2021-12-30T00:21:12.961680Z",
     "iopub.status.idle": "2021-12-30T00:21:12.970200Z",
     "shell.execute_reply": "2021-12-30T00:21:12.970669Z",
     "shell.execute_reply.started": "2021-12-30T00:14:40.969041Z"
    },
    "papermill": {
     "duration": 0.063534,
     "end_time": "2021-12-30T00:21:12.970783",
     "exception": false,
     "start_time": "2021-12-30T00:21:12.907249",
     "status": "completed"
    },
    "tags": []
   },
   "outputs": [
    {
     "name": "stderr",
     "output_type": "stream",
     "text": [
      "/opt/conda/lib/python3.7/site-packages/ipykernel_launcher.py:4: SettingWithCopyWarning: \n",
      "A value is trying to be set on a copy of a slice from a DataFrame.\n",
      "Try using .loc[row_indexer,col_indexer] = value instead\n",
      "\n",
      "See the caveats in the documentation: https://pandas.pydata.org/pandas-docs/stable/user_guide/indexing.html#returning-a-view-versus-a-copy\n",
      "  after removing the cwd from sys.path.\n"
     ]
    }
   ],
   "source": [
    "scaler_hpw = preprocessing.StandardScaler().fit(train[['hours-per-week']])\n",
    "\n",
    "train['hours-per-week'] = scaler_hpw.transform(train[['hours-per-week']]).reshape(-1)\n",
    "test['hours-per-week'] = scaler_hpw.transform(test[['hours-per-week']]).reshape(-1)"
   ]
  },
  {
   "cell_type": "code",
   "execution_count": 42,
   "id": "03fc3de4",
   "metadata": {
    "execution": {
     "iopub.execute_input": "2021-12-30T00:21:13.075109Z",
     "iopub.status.busy": "2021-12-30T00:21:13.074250Z",
     "iopub.status.idle": "2021-12-30T00:21:13.078952Z",
     "shell.execute_reply": "2021-12-30T00:21:13.079334Z",
     "shell.execute_reply.started": "2021-12-30T00:14:40.987430Z"
    },
    "papermill": {
     "duration": 0.058715,
     "end_time": "2021-12-30T00:21:13.079473",
     "exception": false,
     "start_time": "2021-12-30T00:21:13.020758",
     "status": "completed"
    },
    "tags": []
   },
   "outputs": [],
   "source": [
    "x_train = train.drop('income', axis = 1)\n",
    "y_train = train['income']\n",
    "\n",
    "x_test = test.drop('income', axis = 1)\n",
    "y_test = test['income']"
   ]
  },
  {
   "cell_type": "code",
   "execution_count": 43,
   "id": "0964df66",
   "metadata": {
    "execution": {
     "iopub.execute_input": "2021-12-30T00:21:13.187478Z",
     "iopub.status.busy": "2021-12-30T00:21:13.186353Z",
     "iopub.status.idle": "2021-12-30T00:21:13.190048Z",
     "shell.execute_reply": "2021-12-30T00:21:13.189628Z",
     "shell.execute_reply.started": "2021-12-30T00:14:40.998476Z"
    },
    "papermill": {
     "duration": 0.060604,
     "end_time": "2021-12-30T00:21:13.190147",
     "exception": false,
     "start_time": "2021-12-30T00:21:13.129543",
     "status": "completed"
    },
    "tags": []
   },
   "outputs": [],
   "source": [
    "import torch\n",
    "import torch.nn as nn\n",
    "import torch.nn.functional as F\n",
    "\n",
    "class Net(nn.Module):\n",
    "    def __init__(self):\n",
    "        super(Net, self).__init__()\n",
    "        self.fc1 = nn.Linear(92, 168)\n",
    "        self.relu1 = nn.ReLU() \n",
    "        \n",
    "        self.fc2 = nn.Linear(168, 336)\n",
    "        self.relu2 = nn.ReLU()\n",
    "        \n",
    "        self.fc3 = nn.Linear(336, 168)\n",
    "        self.relu3 = nn.ReLU()\n",
    "        \n",
    "        \n",
    "        self.fc4 = nn.Linear(168, 2)\n",
    "        \n",
    "    def forward(self, x):\n",
    "        #x = x.view(0 , 84)\n",
    "        x = self.fc1(x)\n",
    "        x = self.relu1(x)\n",
    "        \n",
    "        x = self.fc2(x)\n",
    "        x = self.relu2(x)\n",
    "        \n",
    "        x = self.fc3(x)\n",
    "        x = self.relu3(x)\n",
    "        \n",
    "        \n",
    "        x = self.fc4(x)\n",
    "        \n",
    "        return F.log_softmax(x, dim=1)"
   ]
  },
  {
   "cell_type": "code",
   "execution_count": 44,
   "id": "aa47c8b7",
   "metadata": {
    "execution": {
     "iopub.execute_input": "2021-12-30T00:21:13.295360Z",
     "iopub.status.busy": "2021-12-30T00:21:13.294610Z",
     "iopub.status.idle": "2021-12-30T00:21:13.296518Z",
     "shell.execute_reply": "2021-12-30T00:21:13.296950Z",
     "shell.execute_reply.started": "2021-12-30T00:14:41.011275Z"
    },
    "papermill": {
     "duration": 0.057086,
     "end_time": "2021-12-30T00:21:13.297063",
     "exception": false,
     "start_time": "2021-12-30T00:21:13.239977",
     "status": "completed"
    },
    "tags": []
   },
   "outputs": [],
   "source": [
    "cuda_device = torch.device('cuda')\n",
    "cpu_device = torch.device('cpu')\n",
    "device = cuda_device"
   ]
  },
  {
   "cell_type": "code",
   "execution_count": 45,
   "id": "84e76beb",
   "metadata": {
    "execution": {
     "iopub.execute_input": "2021-12-30T00:21:13.410578Z",
     "iopub.status.busy": "2021-12-30T00:21:13.409972Z",
     "iopub.status.idle": "2021-12-30T00:21:46.443300Z",
     "shell.execute_reply": "2021-12-30T00:21:46.443974Z",
     "shell.execute_reply.started": "2021-12-30T00:14:41.021526Z"
    },
    "papermill": {
     "duration": 33.097051,
     "end_time": "2021-12-30T00:21:46.444158",
     "exception": false,
     "start_time": "2021-12-30T00:21:13.347107",
     "status": "completed"
    },
    "tags": []
   },
   "outputs": [
    {
     "name": "stdout",
     "output_type": "stream",
     "text": [
      "tensor(0.0401, device='cuda:0', grad_fn=<NllLossBackward>)\n",
      "tensor(0.0157, device='cuda:0', grad_fn=<NllLossBackward>)\n",
      "tensor(0.0193, device='cuda:0', grad_fn=<NllLossBackward>)\n",
      "tensor(0.0095, device='cuda:0', grad_fn=<NllLossBackward>)\n",
      "tensor(0.0872, device='cuda:0', grad_fn=<NllLossBackward>)\n",
      "tensor(0.0554, device='cuda:0', grad_fn=<NllLossBackward>)\n",
      "tensor(0.0349, device='cuda:0', grad_fn=<NllLossBackward>)\n",
      "tensor(0.0230, device='cuda:0', grad_fn=<NllLossBackward>)\n",
      "tensor(0.0047, device='cuda:0', grad_fn=<NllLossBackward>)\n",
      "tensor(0.0225, device='cuda:0', grad_fn=<NllLossBackward>)\n",
      "Accuracy:  0.921\n",
      "Accuracy:  0.804\n"
     ]
    }
   ],
   "source": [
    "net = Net()\n",
    "net = net.to('cuda')\n",
    "loss_function = nn.CrossEntropyLoss()\n",
    "optimizer = torch.optim.Adam(net.parameters(), lr=0.001)\n",
    "\n",
    "for epoch in range(10):\n",
    "    for i in range(len(x_train)):\n",
    "        X = torch.tensor([np.array(x_train)[i]]).to(torch.float).to(device)\n",
    "        y = torch.tensor([np.array(y_train)[i]]).to(torch.long).to(device)\n",
    "        #print(y)\n",
    "        net.zero_grad() \n",
    "        output = (net(X))\n",
    "        #print(y, output)\n",
    "        loss = F.nll_loss(output, y)\n",
    "        #print(y, output, loss)\n",
    "        loss.backward()\n",
    "        optimizer.step()\n",
    "    print(loss)\n",
    "    \n",
    "correct = 0\n",
    "total = 0\n",
    "with torch.no_grad():\n",
    "    for i in range(len(x_train)):\n",
    "        X = torch.tensor([np.array(x_train)[i]]).to(torch.float).to(device)\n",
    "        y = torch.tensor([np.array(y_train)[i]]).to(torch.long).to(device)\n",
    "        output = (net(X))\n",
    "        for idx, i in enumerate(output):\n",
    "            #print(torch.argmax(i), y[idx])\n",
    "            if torch.argmax(i) == y[idx]:\n",
    "                correct += 1\n",
    "            total += 1\n",
    "print(\"Accuracy: \", round(correct/total, 3))\n",
    "correct = 0\n",
    "total = 0\n",
    "with torch.no_grad():\n",
    "    for i in range(len(x_test)):\n",
    "        X = torch.tensor([np.array(x_test)[i]]).to(torch.float).to(device)\n",
    "        y = torch.tensor([np.array(y_test)[i]]).to(torch.long).to(device)\n",
    "        output = (net(X))\n",
    "        for idx, i in enumerate(output):\n",
    "            #print(torch.argmax(i), y[idx])\n",
    "            if torch.argmax(i) == y[idx]:\n",
    "                correct += 1\n",
    "            total += 1\n",
    "print(\"Accuracy: \", round(correct/total, 3))"
   ]
  },
  {
   "cell_type": "code",
   "execution_count": null,
   "id": "3bbfe7b8",
   "metadata": {
    "papermill": {
     "duration": 0.052952,
     "end_time": "2021-12-30T00:21:46.551822",
     "exception": false,
     "start_time": "2021-12-30T00:21:46.498870",
     "status": "completed"
    },
    "tags": []
   },
   "outputs": [],
   "source": []
  }
 ],
 "metadata": {
  "kernelspec": {
   "display_name": "Python 3",
   "language": "python",
   "name": "python3"
  },
  "language_info": {
   "codemirror_mode": {
    "name": "ipython",
    "version": 3
   },
   "file_extension": ".py",
   "mimetype": "text/x-python",
   "name": "python",
   "nbconvert_exporter": "python",
   "pygments_lexer": "ipython3",
   "version": "3.7.12"
  },
  "papermill": {
   "default_parameters": {},
   "duration": 316.757545,
   "end_time": "2021-12-30T00:21:47.715495",
   "environment_variables": {},
   "exception": null,
   "input_path": "__notebook__.ipynb",
   "output_path": "__notebook__.ipynb",
   "parameters": {},
   "start_time": "2021-12-30T00:16:30.957950",
   "version": "2.3.3"
  }
 },
 "nbformat": 4,
 "nbformat_minor": 5
}
